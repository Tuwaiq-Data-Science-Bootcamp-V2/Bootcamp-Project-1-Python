{
 "cells": [
  {
   "cell_type": "code",
   "execution_count": null,
   "id": "0757374e-bc77-40f8-b115-acdb8729693f",
   "metadata": {},
   "outputs": [],
   "source": [
    "\n",
    "#Use lists or dictionaries or tuples or sets.\n",
    "Customer = {\n",
    "    \n",
    "    \"Customer1\": {\n",
    "        \"Name\": \"Sara\",\n",
    "        \"Email\": \"sara@gmail.com\",\n",
    "        \"Phone Number\": 1111111111 }\n",
    "    ,\n",
    "    \n",
    "    \"Customer2\": {\n",
    "        \"Name\": \"Noura\",\n",
    "        \"Email\": \"noura@gmail.com\",\n",
    "        \"Phone Number\": 2222222222 }\n",
    "    ,\n",
    "    \n",
    "    \"Customer3\": {\n",
    "        \"Name\": \"Ahmed\",\n",
    "        \"Email\": \"ahmed@gmail.com\",\n",
    "        \"Phone Number\": 3333333333  }\n",
    " \n",
    "}\n",
    "\n",
    "Restaurant = {\n",
    "    \n",
    "    \"Restaurant1\": {\n",
    "        \"summary\": \"Italian Restaurant\",\n",
    "        \"place\": \"In Riyadh\",\n",
    "        \"Rating\": 3.5 }\n",
    "    ,\n",
    "    \n",
    "    \"Restaurant2\": {\n",
    "        \"summary\": \"Italian Restaurant\",\n",
    "        \"place\": \"In Riyadh\",\n",
    "        \"Rating\": 3 }\n",
    "    ,\n",
    "    \n",
    "    \"Restaurant3\": {\n",
    "        \"summary\": \"Chinese Restaurant\",\n",
    "        \"place\": \"In Riyadh\",\n",
    "        \"Rating\": 4  }\n",
    " \n",
    "}\n"
   ]
  },
  {
   "cell_type": "code",
   "execution_count": null,
   "id": "0da9536f-c9c6-452e-b598-81610209cb08",
   "metadata": {},
   "outputs": [],
   "source": [
    "\n",
    "RestaurantTableNumber = 7\n",
    "\n",
    "def SearchRestaurant():\n",
    "    #Use conditions\n",
    "    if RestaurantTableNumber == 10:\n",
    "        print(\"Sorry, there are no tables available\")\n",
    "    else:\n",
    "        print(\"There are available tables\")\n",
    "        \n",
    "SearchRestaurant()   "
   ]
  },
  {
   "cell_type": "code",
   "execution_count": null,
   "id": "7aa7fac8-babc-444e-b44d-25ddeff11677",
   "metadata": {},
   "outputs": [],
   "source": [
    "#Use a Lambda function\n",
    "ReservationInformation = [\"Raghad\", \"five people\" , \"at 6:30\"]\n",
    "Reservation = lambda  x : ReservationInformation.get() , ReservationInformation\n",
    "print(Reservation)\n",
    "\n",
    "\n",
    "BrowseRestaurant = lambda x : Restaurant.get() , Restaurant\n",
    "print(BrowseRestaurant)"
   ]
  },
  {
   "cell_type": "code",
   "execution_count": null,
   "id": "573d7389-fc0b-472d-bccc-9ed9a55a7b22",
   "metadata": {},
   "outputs": [],
   "source": [
    "#Use functions that return an output      \n",
    "Rating = { \"Restaurant1\" : 3.5 , \"Restaurant2\" : 3 , \"Restaurant3\" : 2 }\n",
    "def RestaurantsRecommendations():\n",
    "    rate = 0.0\n",
    "    #Use loops\n",
    "    for i in Rating.values():\n",
    "        if i > rate:\n",
    "            rate = i\n",
    "            \n",
    "        return  rate\n",
    "           \n",
    "print(RestaurantsRecommendations())"
   ]
  }
 ],
 "metadata": {
  "kernelspec": {
   "display_name": "Python 3 (ipykernel)",
   "language": "python",
   "name": "python3"
  },
  "language_info": {
   "codemirror_mode": {
    "name": "ipython",
    "version": 3
   },
   "file_extension": ".py",
   "mimetype": "text/x-python",
   "name": "python",
   "nbconvert_exporter": "python",
   "pygments_lexer": "ipython3",
   "version": "3.9.13"
  }
 },
 "nbformat": 4,
 "nbformat_minor": 5
}
