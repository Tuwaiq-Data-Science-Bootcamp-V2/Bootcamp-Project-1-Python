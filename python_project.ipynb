{
 "cells": [
  {
   "cell_type": "code",
   "execution_count": 308,
   "id": "3cc7b3a5",
   "metadata": {
    "scrolled": true
   },
   "outputs": [
    {
     "name": "stdout",
     "output_type": "stream",
     "text": [
      "To know the weather for today, select the desired region, or choose all regions by selecting the number 1,2:\n",
      "1. Specific region (Riyadh, Jeddah, Mecca, Qassim, Tabuk)2. All regions2\n",
      "the weather today in:  الرياض\n",
      "اليوم 01/15\n",
      "نهاراً   23°\n",
      "ليلاً    15°\n",
      "the weather today in:  جدة\n",
      "اليوم 01/15\n",
      "نهاراً   28°\n",
      "ليلاً    22°\n",
      "the weather today in:  مكة\n",
      "اليوم 01/15\n",
      "نهاراً   28°\n",
      "ليلاً    21°\n",
      "the weather today in:  تبوك\n",
      "اليوم 01/15\n",
      "نهاراً   18°\n",
      "ليلاً    7°\n",
      "the weather today in:  القصيم\n",
      "اليوم 01/15\n",
      "نهاراً   16°\n",
      "ليلاً    11°\n"
     ]
    }
   ],
   "source": [
    "import requests\n",
    "from bs4 import BeautifulSoup\n",
    "\n",
    "print(\"To know the weather for today, select the desired region, or choose all regions by selecting the number 1,2:\")\n",
    "user_value= input(\"1. Specific region (Riyadh, Jeddah, Mecca, Qassim, Tabuk)2. All regions\")\n",
    "list_citys=['480','343','379','376','344']\n",
    "global citys_dic\n",
    "    \n",
    "list_citys_name= get_keys_as_list(citys_dic)\n",
    "\n",
    "\n",
    "website = None\n",
    "if int(user_value) == 1:\n",
    "    region=input('Choose and write the desired region: 1 الرياض 5 جدة 4 مكة 3القصيم 2 تبوك')\n",
    "    resolt= main(website_requests(region))\n",
    "    if resolt:\n",
    "        print('you entered wrong region name')\n",
    "elif int(user_value) == 2:\n",
    "     for i in range(len(list_citys)):\n",
    "            print(\"the weather today in: \",list_citys_name[i])\n",
    "            main(website_requests(list_citys_name[i]))\n",
    "        "
   ]
  },
  {
   "cell_type": "code",
   "execution_count": 295,
   "id": "6f10911e",
   "metadata": {
    "scrolled": false
   },
   "outputs": [],
   "source": [
    "def main(website):\n",
    "    \n",
    "    if website == None:\n",
    "        return True\n",
    "    else:\n",
    "        src = website.content\n",
    "        soup = BeautifulSoup(src,\"lxml\")\n",
    "        weather_table = soup.find('div',{'class':'homepage-day-card pointer relative radius-8'})\n",
    "        x= weather_table.contents[0]\n",
    "        y=weather_table.contents[1]\n",
    "        print(x.contents[0].text)\n",
    "        print(x.contents[1].text,'',x.find('p').text)\n",
    "        print(y.contents[0].text,\"\",y.contents[1].text)\n",
    "        return False"
   ]
  },
  {
   "cell_type": "code",
   "execution_count": 302,
   "id": "81390d18",
   "metadata": {},
   "outputs": [],
   "source": [
    "def website_requests(region):\n",
    "    citys_dic = {'الرياض':'344',\n",
    "           'جدة':'376',\n",
    "           'مكة':'379',\n",
    "           'تبوك':'343',\n",
    "           'القصيم':'480'}\n",
    "    global headers\n",
    "    headers = {'User-Agent': 'Mozilla/5.0 (Macintosh; Intel Mac OS X 10_11_5) AppleWebKit/537.36 (KHTML, like Gecko) Chrome/50.0.2661.102 Safari/537.36'}\n",
    "    if  citys_dic.get(region)== None:\n",
    "        return None\n",
    "    else:\n",
    "        website = requests.get(\"https://www.arabiaweather.com/ar/توقعات-الطقس/القصيم/{}/sa?ref=country-page\".format(citys_dic.get(region)),headers=headers)\n",
    "        return website\n",
    "    "
   ]
  },
  {
   "cell_type": "code",
   "execution_count": 294,
   "id": "60ac0629",
   "metadata": {},
   "outputs": [],
   "source": [
    "def get_keys_as_list(dictionary):\n",
    "    return list(map(lambda x: x[0], dictionary.items()))"
   ]
  }
 ],
 "metadata": {
  "kernelspec": {
   "display_name": "Python 3 (ipykernel)",
   "language": "python",
   "name": "python3"
  },
  "language_info": {
   "codemirror_mode": {
    "name": "ipython",
    "version": 3
   },
   "file_extension": ".py",
   "mimetype": "text/x-python",
   "name": "python",
   "nbconvert_exporter": "python",
   "pygments_lexer": "ipython3",
   "version": "3.9.13"
  }
 },
 "nbformat": 4,
 "nbformat_minor": 5
}
