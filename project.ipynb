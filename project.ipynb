{
 "cells": [
  {
   "cell_type": "code",
   "execution_count": 1,
   "id": "4eb69b8f",
   "metadata": {},
   "outputs": [
    {
     "name": "stdout",
     "output_type": "stream",
     "text": [
      " \n",
      "\t Wellcome you're in AQRA store \n",
      "Enter your age and will show you the books that are appropriate for your age \n",
      "\n",
      "Age: 22\n",
      "['Memories', 'Brief history of time', 'A thousand pices of you', 'paper towns']\n",
      "\n",
      "Choose the book : Brief history of time\n",
      "The book name is Brief history of time\n",
      "The total price is  44.0\n"
     ]
    }
   ],
   "source": [
    "name = lambda : print(\" \\n\\t Wellcome you're in AQRA store \\n\" \n",
    "     \"Enter your age and will show you the books that are appropriate for your age \")\n",
    "age=18\n",
    "deliver=10.0\n",
    "\n",
    "''''''''''''''''''''''''''''''''''''''''''''''''''''''''''''''\n",
    "name()\n",
    "x=int(input(\"\\nAge: \" ))\n",
    "\n",
    "list = [\"Memories\", \"Brief history of time\", \"A thousand pices of you\", \"paper towns\"]\n",
    "list2 = [\"Sisters story\", \"Sara and her friends\",\"Exercise with sally\",\"Learn to be friendly\",\"English alphabet\"]\n",
    "\n",
    "\n",
    "if x >= 14:\n",
    "    print(list)\n",
    "elif x>=8 and x<=13:\n",
    "    print(list2)\n",
    "\n",
    "\n",
    "choose_book = str(input(\"\\nChoose the book : \"))\n",
    "\n",
    "for key in list:\n",
    "    if choose_book == key:\n",
    "        print(\"The book name is \" + key)\n",
    "    \n",
    "for key2 in list2:\n",
    "    if choose_book == key2:\n",
    "        print(\"The book name is \" + key2)\n",
    "\n",
    "\n",
    "\n",
    "def p():\n",
    "    if choose_book == list[0]:\n",
    "        print(\"The total price is \", deliver+22)\n",
    "\n",
    "    elif choose_book == list[1]:\n",
    "        print(\"The total price is \", deliver+34)\n",
    "\n",
    "    elif choose_book == list[3]:\n",
    "        print(\"The total price is \", deliver+25)\n",
    "\n",
    "    elif choose_book == list[2]:\n",
    "        print(\"The total price is \", deliver+33)\n",
    "\n",
    "    elif choose_book == list2[0]:\n",
    "        print(\"The total price is \", deliver+18)\n",
    "\n",
    "    elif choose_book == list2[1]:\n",
    "        print(\"The total price is \", deliver+12)\n",
    "\n",
    "    elif choose_book == list2[3]:\n",
    "        print(\"The total price is \", deliver+15)\n",
    "\n",
    "    elif choose_book == list2[2]:\n",
    "        print(\"The total price is \", deliver+20)\n",
    "\n",
    "    elif choose_book == list2[4]:\n",
    "        print(\"The total price is \", deliver+16)\n",
    "\n",
    "p()\n",
    "\n"
   ]
  },
  {
   "cell_type": "code",
   "execution_count": null,
   "id": "b87ba1ae",
   "metadata": {},
   "outputs": [],
   "source": []
  },
  {
   "cell_type": "code",
   "execution_count": null,
   "id": "d334d869",
   "metadata": {},
   "outputs": [],
   "source": []
  },
  {
   "cell_type": "code",
   "execution_count": null,
   "id": "cd9a9745",
   "metadata": {},
   "outputs": [],
   "source": []
  },
  {
   "cell_type": "code",
   "execution_count": null,
   "id": "31fe07fa",
   "metadata": {},
   "outputs": [],
   "source": []
  },
  {
   "cell_type": "code",
   "execution_count": null,
   "id": "2cd82606",
   "metadata": {},
   "outputs": [],
   "source": []
  },
  {
   "cell_type": "code",
   "execution_count": null,
   "id": "014572f7",
   "metadata": {},
   "outputs": [],
   "source": []
  },
  {
   "cell_type": "code",
   "execution_count": null,
   "id": "1744948f",
   "metadata": {},
   "outputs": [],
   "source": []
  }
 ],
 "metadata": {
  "kernelspec": {
   "display_name": "Python 3 (ipykernel)",
   "language": "python",
   "name": "python3"
  },
  "language_info": {
   "codemirror_mode": {
    "name": "ipython",
    "version": 3
   },
   "file_extension": ".py",
   "mimetype": "text/x-python",
   "name": "python",
   "nbconvert_exporter": "python",
   "pygments_lexer": "ipython3",
   "version": "3.9.13"
  }
 },
 "nbformat": 4,
 "nbformat_minor": 5
}
