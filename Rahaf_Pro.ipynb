{
 "cells": [
  {
   "cell_type": "markdown",
   "id": "49eed799-424a-4b44-9740-7dfd3ee78345",
   "metadata": {},
   "source": [
    "# First Project\n",
    "\n",
    "## nutrition clinic site\n",
    "\n",
    "### by **Rahaf Abdullah**\n",
    " \n",
    "\n"
   ]
  },
  {
   "cell_type": "code",
   "execution_count": null,
   "id": "6fe55910-44b0-488b-a272-d7b6d9460c54",
   "metadata": {},
   "outputs": [],
   "source": [
    "### Name of patient\n",
    "Name =(input(\"Enter your Name\"))\n",
    "print(\"Hi\",Name,)\n",
    "\n",
    "        \n",
    "#calculate the age by lambda     \n",
    "age=int(input(\"Enter your year of birth\"))\n",
    "age_calculat = lambda age : 2023-age\n",
    "r=age_calculat(age)\n",
    "print(\"Your age is\",r)\n",
    "#use function to calculate body mass   \n",
    "def BMI(Height,Weight):\n",
    "    BMI = Weight/(Height**2)\n",
    "    print(\"Your Body mass is\",BMI)\n",
    "    \n",
    "    return(BMI)\n",
    "    \n",
    "print(\"To calculate body mass, enter your height and weight:\")\n",
    "Height=int(input(\"Enter your height: \"))/100\n",
    "Weight=float (input(\"Enter your weight: \"))\n",
    "BMI(Height,Weight)\n",
    "bmi=float(input(\"To want you know if you (Thinness, Normal,Obese ), Enter Your Body mass\"))\n",
    "if bmi <16 :\n",
    "    print (\"Severe Thinness\")\n",
    "elif bmi>=16 and bmi <17:\n",
    "    print(\"Moderate Thinness\")\n",
    "elif bmi >=17 and bmi <18.5:\n",
    "    print(\"Mild Thinness\")\n",
    "elif bmi >=18.5 and bmi<25:\n",
    "    print(\"Normal\")\n",
    "elif bmi>=25 and bmi<30:\n",
    "    print(\"Over weight\")\n",
    "elif bmi >=30 and bmi<35:\n",
    "    print(\"Obese Class I\")\n",
    "elif bmi>=35 and bmi<40:\n",
    "    print(\"Obese Class II\")\n",
    "else:\n",
    "    print(\"Obese Class III\")\n",
    "    \n",
    "    \n",
    "#Thid dictionary has Information of doctors and clinics number\n",
    "Doctors = {\n",
    "    '1': {'Doctor':'D.Remma, Ground floor, East gate, phone number=0559861839', 'Clinc_Number':1},\n",
    "    '2': {'Doctor':'D.Ali,Ground floor, Western gate, phone number=0599991839','Clinc_Number':2},\n",
    "    '3': {'Doctor':'D.Mansour, Ground floor, South gate, phone number=0500000184','Clinc_Number':3},\n",
    "    '4': {'Doctor':'D.Abdullah, Ground floor, North gate, phone number=0549483833','Clinc_Number':4}, \n",
    "    '5': {'Doctor':'D.Wallaa, First floor, Next to Dunkin Coffee,phone number=0550002211','Clinc_Number':5},\n",
    "    '6': {'Doctor':'D.Mohammed, First floor phone number=0559909090','Clinc_Number':6},\n",
    "    '7': {'Doctor':'D.Sara, First floor,phone number=0553333300','Clinc_Number':7},\n",
    "\n",
    "      }\n",
    "\n",
    "\n",
    "number = input(\"We have 7 nutritionists. Choose the clinic number from 1 to 7, the name of the doctor, location of the clinic, his number will appear \")\n",
    "if len(number)!=1:\n",
    "    print(\" This is invalid number\")\n",
    "elif not number.isnumeric():\n",
    "    print(\"This is invalid number,it contain letters\")\n",
    "else:\n",
    "    notfound=True\n",
    "    for key,value in Doctors.items():\n",
    "        if int(number)== value ['Clinc_Number']:\n",
    "            print(value['Doctor'])\n",
    "            notfound=False\n",
    "            break\n",
    "    if notfound:\n",
    "            print(\"Sorry, the numer is not found\")  \n",
    "    "
   ]
  },
  {
   "cell_type": "markdown",
   "id": "f6b4c313-6e40-4e7d-b978-2724ee87a0f7",
   "metadata": {},
   "source": [
    "##### "
   ]
  },
  {
   "cell_type": "code",
   "execution_count": null,
   "id": "49362d00-5594-419a-b107-edf8a3dd91a0",
   "metadata": {},
   "outputs": [],
   "source": []
  }
 ],
 "metadata": {
  "kernelspec": {
   "display_name": "Python 3 (ipykernel)",
   "language": "python",
   "name": "python3"
  },
  "language_info": {
   "codemirror_mode": {
    "name": "ipython",
    "version": 3
   },
   "file_extension": ".py",
   "mimetype": "text/x-python",
   "name": "python",
   "nbconvert_exporter": "python",
   "pygments_lexer": "ipython3",
   "version": "3.9.13"
  }
 },
 "nbformat": 4,
 "nbformat_minor": 5
}
