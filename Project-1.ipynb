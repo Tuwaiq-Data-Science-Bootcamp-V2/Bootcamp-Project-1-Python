{
 "cells": [
  {
   "cell_type": "markdown",
   "id": "bc1c4538",
   "metadata": {},
   "source": [
    "# project 1\n",
    "## faris adel alahmadi\n",
    "### circle drawing program"
   ]
  },
  {
   "cell_type": "markdown",
   "id": "38c0d390",
   "metadata": {},
   "source": [
    "how to draw circle?\n",
    "\n",
    "the circle equation is : x ^ 2 + y ^ 2 = r ^ 2\n",
    "\n",
    "where x and y are the cordenates and r is the radius\n",
    "\n",
    "we have done some equation manipulation\n",
    "\n",
    "1. x ^ 2 = r ^ 2 - y ^ 2\n",
    "\n",
    "2. x = sqr ( r ^ 2 - y ^ 2 )\n",
    "\n",
    "so we have y cordinates and the radius and by this equation we will get the x cordinats\n",
    "\n",
    "so how we will do that ?\n"
   ]
  },
  {
   "cell_type": "markdown",
   "id": "557c7147",
   "metadata": {},
   "source": [
    "1. **import needed library**"
   ]
  },
  {
   "cell_type": "code",
   "execution_count": 1,
   "id": "960be041",
   "metadata": {},
   "outputs": [],
   "source": [
    "import math\n",
    "import time"
   ]
  },
  {
   "cell_type": "markdown",
   "id": "18fbad40",
   "metadata": {},
   "source": [
    "2. **define functions**"
   ]
  },
  {
   "cell_type": "markdown",
   "id": "3d0d3649",
   "metadata": {},
   "source": [
    "this function takes y an raduis as input and output x"
   ]
  },
  {
   "cell_type": "code",
   "execution_count": 2,
   "id": "a00e9ee9",
   "metadata": {},
   "outputs": [],
   "source": [
    "# x = sqrt( r ^ 2 - y ^ 2) the equation explained above\n",
    "get_x = lambda y,r : math.sqrt((r**2)-(y**2))"
   ]
  },
  {
   "cell_type": "markdown",
   "id": "8404817b",
   "metadata": {},
   "source": [
    "this function takes raduis as input and draw the circle then return the points cordinates"
   ]
  },
  {
   "cell_type": "code",
   "execution_count": 8,
   "id": "e73b5ca9",
   "metadata": {},
   "outputs": [],
   "source": [
    "def draw_circle(radius,point='#'):\n",
    "    points=[] # empty list to store points cordinates\n",
    "    for y in range(radius,-radius-1,-1): # loop over y , at the start y= radius and at the end y = -radius\n",
    "        x = get_x(y,radius) # get x cordinate\n",
    "        # make a list of string represent the printed line\n",
    "        # the line consist of 4 segments \n",
    "        # 1. list of spaces until the first point\n",
    "        # 2. the first point\n",
    "        # 3. list of points until the second point\n",
    "        # 4. the second point\n",
    "        line = [' ' for i in range(round(radius-x)*2)] + [point] + [point for i in range(round(x)*4)] + [point]\n",
    "        # join to convert the list to string\n",
    "        line = ''.join(line)\n",
    "        # print the line\n",
    "        print(line)\n",
    "        # sleep to make drawing animation\n",
    "        time.sleep(0.1)\n",
    "        # append the cordinate to the list of points\n",
    "        points.append((x,y))\n",
    "    return points"
   ]
  },
  {
   "cell_type": "markdown",
   "id": "78dcf7ba",
   "metadata": {},
   "source": [
    "3. **show result**"
   ]
  },
  {
   "cell_type": "code",
   "execution_count": 12,
   "id": "031e651a",
   "metadata": {},
   "outputs": [
    {
     "name": "stdout",
     "output_type": "stream",
     "text": [
      "Welcome to circle drawing notebook\n",
      "----------------------------------\n",
      "type quit to exit\n",
      "pleas enter the raduis : j\n",
      "the raduis should be number , try again\n",
      "----------------------------------\n",
      "type quit to exit\n",
      "pleas enter the raduis : 7\n",
      "pleas enter the point shape : kk\n",
      "the point shape should be a character , try again\n",
      "----------------------------------\n",
      "type quit to exit\n",
      "pleas enter the raduis : 7\n",
      "pleas enter the point shape : k\n",
      "              kk\n",
      "      kkkkkkkkkkkkkkkkkk\n",
      "    kkkkkkkkkkkkkkkkkkkkkk\n",
      "  kkkkkkkkkkkkkkkkkkkkkkkkkk\n",
      "  kkkkkkkkkkkkkkkkkkkkkkkkkk\n",
      "kkkkkkkkkkkkkkkkkkkkkkkkkkkkkk\n",
      "kkkkkkkkkkkkkkkkkkkkkkkkkkkkkk\n",
      "kkkkkkkkkkkkkkkkkkkkkkkkkkkkkk\n",
      "kkkkkkkkkkkkkkkkkkkkkkkkkkkkkk\n",
      "kkkkkkkkkkkkkkkkkkkkkkkkkkkkkk\n",
      "  kkkkkkkkkkkkkkkkkkkkkkkkkk\n",
      "  kkkkkkkkkkkkkkkkkkkkkkkkkk\n",
      "    kkkkkkkkkkkkkkkkkkkkkk\n",
      "      kkkkkkkkkkkkkkkkkk\n",
      "              kk\n",
      "----------------------------------\n",
      "type quit to exit\n",
      "pleas enter the raduis : 8\n",
      "pleas enter the point shape : 8\n",
      "                88\n",
      "        888888888888888888\n",
      "      8888888888888888888888\n",
      "    88888888888888888888888888\n",
      "  888888888888888888888888888888\n",
      "  888888888888888888888888888888\n",
      "8888888888888888888888888888888888\n",
      "8888888888888888888888888888888888\n",
      "8888888888888888888888888888888888\n",
      "8888888888888888888888888888888888\n",
      "8888888888888888888888888888888888\n",
      "  888888888888888888888888888888\n",
      "  888888888888888888888888888888\n",
      "    88888888888888888888888888\n",
      "      8888888888888888888888\n",
      "        888888888888888888\n",
      "                88\n",
      "----------------------------------\n",
      "type quit to exit\n",
      "pleas enter the raduis : 9\n",
      "pleas enter the point shape : l\n",
      "                  ll\n",
      "          llllllllllllllllll\n",
      "      llllllllllllllllllllllllll\n",
      "    llllllllllllllllllllllllllllll\n",
      "    llllllllllllllllllllllllllllll\n",
      "  llllllllllllllllllllllllllllllllll\n",
      "  llllllllllllllllllllllllllllllllll\n",
      "llllllllllllllllllllllllllllllllllllll\n",
      "llllllllllllllllllllllllllllllllllllll\n",
      "llllllllllllllllllllllllllllllllllllll\n",
      "llllllllllllllllllllllllllllllllllllll\n",
      "llllllllllllllllllllllllllllllllllllll\n",
      "  llllllllllllllllllllllllllllllllll\n",
      "  llllllllllllllllllllllllllllllllll\n",
      "    llllllllllllllllllllllllllllll\n",
      "    llllllllllllllllllllllllllllll\n",
      "      llllllllllllllllllllllllll\n",
      "          llllllllllllllllll\n",
      "                  ll\n",
      "----------------------------------\n",
      "type quit to exit\n",
      "pleas enter the raduis : h\n",
      "the raduis should be number , try again\n",
      "----------------------------------\n",
      "type quit to exit\n",
      "pleas enter the raduis : 6\n",
      "pleas enter the point shape : quit\n"
     ]
    }
   ],
   "source": [
    "print('Welcome to circle drawing notebook')\n",
    "while True:\n",
    "    print('----------------------------------')\n",
    "    print('type quit to exit')\n",
    "    r = input('pleas enter the raduis : ')\n",
    "    # check of quit is typed\n",
    "    if r == 'quit':\n",
    "        break\n",
    "    # check if r is a number\n",
    "    try:\n",
    "        r = int(r)\n",
    "    except:\n",
    "        print('the raduis should be number , try again')\n",
    "        continue\n",
    "        \n",
    "    p = input('pleas enter the point shape : ')\n",
    "    # check if quit is typed\n",
    "    if p == 'quit':\n",
    "        break\n",
    "    # check if p length is 1\n",
    "    if len(p) > 1 :\n",
    "        print('the point shape should be a character , try again')\n",
    "        continue\n",
    "        \n",
    "    points=draw_circle(r,p)\n",
    "\n"
   ]
  },
  {
   "cell_type": "code",
   "execution_count": 13,
   "id": "9a6922eb",
   "metadata": {},
   "outputs": [
    {
     "data": {
      "text/plain": [
       "[(0.0, 9),\n",
       " (4.123105625617661, 8),\n",
       " (5.656854249492381, 7),\n",
       " (6.708203932499369, 6),\n",
       " (7.483314773547883, 5),\n",
       " (8.06225774829855, 4),\n",
       " (8.48528137423857, 3),\n",
       " (8.774964387392123, 2),\n",
       " (8.94427190999916, 1),\n",
       " (9.0, 0),\n",
       " (8.94427190999916, -1),\n",
       " (8.774964387392123, -2),\n",
       " (8.48528137423857, -3),\n",
       " (8.06225774829855, -4),\n",
       " (7.483314773547883, -5),\n",
       " (6.708203932499369, -6),\n",
       " (5.656854249492381, -7),\n",
       " (4.123105625617661, -8),\n",
       " (0.0, -9)]"
      ]
     },
     "execution_count": 13,
     "metadata": {},
     "output_type": "execute_result"
    }
   ],
   "source": [
    "points"
   ]
  },
  {
   "cell_type": "code",
   "execution_count": null,
   "id": "d534b011",
   "metadata": {},
   "outputs": [],
   "source": []
  }
 ],
 "metadata": {
  "kernelspec": {
   "display_name": "Python 3 (ipykernel)",
   "language": "python",
   "name": "python3"
  },
  "language_info": {
   "codemirror_mode": {
    "name": "ipython",
    "version": 3
   },
   "file_extension": ".py",
   "mimetype": "text/x-python",
   "name": "python",
   "nbconvert_exporter": "python",
   "pygments_lexer": "ipython3",
   "version": "3.8.10"
  }
 },
 "nbformat": 4,
 "nbformat_minor": 5
}
