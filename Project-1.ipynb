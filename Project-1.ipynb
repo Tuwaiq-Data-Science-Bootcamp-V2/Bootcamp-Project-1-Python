{
 "cells": [
  {
   "cell_type": "markdown",
   "id": "b3ce8401",
   "metadata": {},
   "source": [
    "# **Menu Orders**\n"
   ]
  },
  {
   "cell_type": "markdown",
   "id": "8662ddbd",
   "metadata": {},
   "source": [
    "> The program displays the menu to the user, the user adds orders, and the program calculates the bill."
   ]
  },
  {
   "cell_type": "markdown",
   "id": "20ecb153",
   "metadata": {},
   "source": [
    "## **Program properties**"
   ]
  },
  {
   "cell_type": "markdown",
   "id": "1a81d518",
   "metadata": {},
   "source": [
    ">-  Menu\n",
    ">-  User\n",
    ">-  cart\n",
    ">- The bill contains the account, time, date and name"
   ]
  },
  {
   "cell_type": "markdown",
   "id": "239b5a35",
   "metadata": {},
   "source": [
    "___"
   ]
  },
  {
   "cell_type": "markdown",
   "id": "4a75d5cc",
   "metadata": {},
   "source": [
    "### Implementation Codes"
   ]
  },
  {
   "cell_type": "markdown",
   "id": "70913e7a",
   "metadata": {},
   "source": [
    "```python\n",
    "import datetime\n",
    "x= datetime.datetime.now()\n",
    "\n",
    "menu ={\"ESPRESSO\":10, \"AMERICANO\":17, \"FLAT WHITE\":16, \"LATTE\" :15}\n",
    "cart=[]\n",
    "bill=0\n",
    "\n",
    "for key, value in menu.items():\n",
    "    print(f\"{key:10}:{value:.2f}\")\n",
    "while True:\n",
    "  option = (input(\"please make a choice\"))\n",
    "\n",
    "  if option== 'end':\n",
    "     break\n",
    "  elif menu.get(option) is not None:\n",
    "         cart.append(option)\n",
    "         print(\"your order\",cart)\n",
    "\n",
    "for option in cart:\n",
    "    bill +=menu.get(option)\n",
    "\n",
    "\n",
    "print(f\"bill is :{bill:.2f}\\n\", x)\n",
    "def my(name,phone):\n",
    "   print(name+\" \" + phone)\n",
    "my(\"razan\",\"55555555\")\n",
    "\n",
    "\n",
    "```"
   ]
  },
  {
   "cell_type": "code",
   "execution_count": 1,
   "id": "e1bd5f17",
   "metadata": {},
   "outputs": [
    {
     "name": "stdout",
     "output_type": "stream",
     "text": [
      "ESPRESSO  :10.00\n",
      "AMERICANO :17.00\n",
      "FLAT WHITE:16.00\n",
      "LATTE     :15.00\n",
      "please make a choiceESPRESSO\n",
      "your order ['ESPRESSO']\n",
      "please make a choiceend\n",
      "bill is :10.00\n",
      " 2023-01-14 21:23:25.126960\n",
      "razan 55555555\n"
     ]
    }
   ],
   "source": [
    "import datetime\n",
    "x= datetime.datetime.now()\n",
    "\n",
    "menu ={\"ESPRESSO\":10, \"AMERICANO\":17, \"FLAT WHITE\":16, \"LATTE\" :15}\n",
    "cart=[]\n",
    "bill=0\n",
    "\n",
    "for key, value in menu.items():\n",
    "    print(f\"{key:10}:{value:.2f}\")\n",
    "while True:\n",
    "  option = (input(\"please make a choice\"))\n",
    "\n",
    "  if option== 'end':\n",
    "     break\n",
    "  elif menu.get(option) is not None:\n",
    "         cart.append(option)\n",
    "         print(\"your order\",cart)\n",
    "\n",
    "for option in cart:\n",
    "    bill +=menu.get(option)\n",
    "\n",
    "\n",
    "print(f\"bill is :{bill:.2f}\\n\", x)\n",
    "def my(name,phone):\n",
    "   print(name+\" \" + phone)\n",
    "my(\"razan\",\"55555555\")\n"
   ]
  },
  {
   "cell_type": "code",
   "execution_count": null,
   "id": "9b9b65b9",
   "metadata": {},
   "outputs": [],
   "source": []
  },
  {
   "cell_type": "code",
   "execution_count": null,
   "id": "b3813791",
   "metadata": {},
   "outputs": [],
   "source": []
  }
 ],
 "metadata": {
  "kernelspec": {
   "display_name": "Python 3 (ipykernel)",
   "language": "python",
   "name": "python3"
  },
  "language_info": {
   "codemirror_mode": {
    "name": "ipython",
    "version": 3
   },
   "file_extension": ".py",
   "mimetype": "text/x-python",
   "name": "python",
   "nbconvert_exporter": "python",
   "pygments_lexer": "ipython3",
   "version": "3.9.12"
  }
 },
 "nbformat": 4,
 "nbformat_minor": 5
}
