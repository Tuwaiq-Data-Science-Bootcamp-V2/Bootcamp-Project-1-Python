{
 "cells": [
  {
   "cell_type": "code",
   "execution_count": 13,
   "metadata": {},
   "outputs": [],
   "source": [
    "# Creating students list\n",
    "students=[]\n",
    "\n",
    "# Define a function that takes student id and name and work results and save it onto dict then append it onto the student lists\n",
    "def addstudent(stid,Name,exam1,exam2,projects,finalexam):\n",
    "    totalgrade = exam1+exam2+projects+finalexam\n",
    "    students.append({'id':stid,'Name':Name,'exam1':exam1,\n",
    "                     'exam2':exam2,'projects':projects,'finalexam':finalexam,'totalgrade':totalgrade})\n",
    "    \n",
    "\n",
    "    "
   ]
  },
  {
   "cell_type": "code",
   "execution_count": 14,
   "metadata": {},
   "outputs": [],
   "source": [
    "# ADD STUDENTS TO THE LIST\n",
    "addstudent('1122','Mohamed',12,10,25,40)\n",
    "addstudent('1133','Hasan',9,9,20,40)\n",
    "addstudent('1112','hadi',4,4,15,20)\n",
    "addstudent('1113','fahd',6,6,14,25)\n",
    "addstudent('1114','Amjad',12,12,28,38)\n",
    "addstudent('1115','Huda',10,11,22,39)\n",
    "addstudent('1116','Bader',8,8,5,19)"
   ]
  },
  {
   "cell_type": "code",
   "execution_count": 15,
   "metadata": {},
   "outputs": [],
   "source": [
    "# Define function to remove student from the students list\n",
    "def removestudent(stid,students):\n",
    "    index = 0\n",
    "    for student in students:\n",
    "        if student['id']==stid:\n",
    "            del students[index]\n",
    "            break\n",
    "        else:\n",
    "            index +=1"
   ]
  },
  {
   "cell_type": "code",
   "execution_count": 16,
   "metadata": {},
   "outputs": [],
   "source": [
    "# Get student information\n",
    "def getstudent(stid,students):\n",
    "    index = 0\n",
    "    st={}\n",
    "    for student in students:\n",
    "        if student['id']==stid:\n",
    "            st.update(student)\n",
    "        else:\n",
    "            index +=1\n",
    "    return st"
   ]
  },
  {
   "cell_type": "code",
   "execution_count": 17,
   "metadata": {},
   "outputs": [],
   "source": [
    "# calculate the students who passed the course\n",
    "    \n",
    "def PassStudents(students):\n",
    "    passed = 0\n",
    "    for student in students:\n",
    "        if student['totalgrade']>=60:\n",
    "            passed +=1\n",
    "    return passed"
   ]
  },
  {
   "cell_type": "code",
   "execution_count": 18,
   "metadata": {},
   "outputs": [],
   "source": [
    "# Boolean function to find a student if he passed\n",
    "def isPassed(stid, students):\n",
    "    index = 0\n",
    "    ispass = False\n",
    "    for student in students:\n",
    "        if student['id']==stid and student['totalgrade']>=60:\n",
    "            ispass = True\n",
    "            break\n",
    "        else:\n",
    "            index +=1\n",
    "    return ispass\n",
    "    "
   ]
  },
  {
   "cell_type": "code",
   "execution_count": 19,
   "metadata": {},
   "outputs": [
    {
     "name": "stdout",
     "output_type": "stream",
     "text": [
      "[{'id': '1122', 'Name': 'Mohamed', 'exam1': 12, 'exam2': 10, 'projects': 25, 'finalexam': 40, 'totalgrade': 87}, {'id': '1133', 'Name': 'Hasan', 'exam1': 9, 'exam2': 9, 'projects': 20, 'finalexam': 40, 'totalgrade': 78}, {'id': '1112', 'Name': 'hadi', 'exam1': 4, 'exam2': 4, 'projects': 15, 'finalexam': 20, 'totalgrade': 43}, {'id': '1113', 'Name': 'fahd', 'exam1': 6, 'exam2': 6, 'projects': 14, 'finalexam': 25, 'totalgrade': 51}, {'id': '1114', 'Name': 'Amjad', 'exam1': 12, 'exam2': 12, 'projects': 28, 'finalexam': 38, 'totalgrade': 90}, {'id': '1115', 'Name': 'Huda', 'exam1': 10, 'exam2': 11, 'projects': 22, 'finalexam': 39, 'totalgrade': 82}, {'id': '1116', 'Name': 'Bader', 'exam1': 8, 'exam2': 8, 'projects': 5, 'finalexam': 19, 'totalgrade': 40}]\n"
     ]
    }
   ],
   "source": [
    "print(students)"
   ]
  },
  {
   "cell_type": "code",
   "execution_count": 20,
   "metadata": {},
   "outputs": [
    {
     "data": {
      "text/plain": [
       "False"
      ]
     },
     "execution_count": 20,
     "metadata": {},
     "output_type": "execute_result"
    }
   ],
   "source": [
    "isPassed('1116',students)"
   ]
  },
  {
   "cell_type": "code",
   "execution_count": 21,
   "metadata": {},
   "outputs": [
    {
     "name": "stdout",
     "output_type": "stream",
     "text": [
      "Welcome to Students Database\n",
      "Enter the number you want to excute or q to quit \n",
      " 1. Show All Students\n",
      " 2. Add New Student to the database\n",
      " 3. How Many Passed The Course\n",
      " 4. Remove student from the database\n",
      " 5. Show a Student Informaion\n",
      " 6. Did The student pass\n",
      "1\n",
      "{'id': '1122', 'Name': 'Mohamed', 'exam1': 12, 'exam2': 10, 'projects': 25, 'finalexam': 40, 'totalgrade': 87}\n",
      "{'id': '1133', 'Name': 'Hasan', 'exam1': 9, 'exam2': 9, 'projects': 20, 'finalexam': 40, 'totalgrade': 78}\n",
      "{'id': '1112', 'Name': 'hadi', 'exam1': 4, 'exam2': 4, 'projects': 15, 'finalexam': 20, 'totalgrade': 43}\n",
      "{'id': '1113', 'Name': 'fahd', 'exam1': 6, 'exam2': 6, 'projects': 14, 'finalexam': 25, 'totalgrade': 51}\n",
      "{'id': '1114', 'Name': 'Amjad', 'exam1': 12, 'exam2': 12, 'projects': 28, 'finalexam': 38, 'totalgrade': 90}\n",
      "{'id': '1115', 'Name': 'Huda', 'exam1': 10, 'exam2': 11, 'projects': 22, 'finalexam': 39, 'totalgrade': 82}\n",
      "{'id': '1116', 'Name': 'Bader', 'exam1': 8, 'exam2': 8, 'projects': 5, 'finalexam': 19, 'totalgrade': 40}\n",
      "Enter the number you want to excute or q to quit \n",
      " 1. Show All Students\n",
      " 2. Add New Student to the database\n",
      " 3. How Many Passed The Course\n",
      " 4. Remove student from the database\n",
      " 5. Show a Student Informaion\n",
      " 6. Did The student pass\n",
      "3\n",
      "Number of students who passed the course are  4 of  7 total students\n",
      "Enter the number you want to excute or q to quit \n",
      " 1. Show All Students\n",
      " 2. Add New Student to the database\n",
      " 3. How Many Passed The Course\n",
      " 4. Remove student from the database\n",
      " 5. Show a Student Informaion\n",
      " 6. Did The student pass\n",
      "q\n"
     ]
    }
   ],
   "source": [
    "# Main itration script to show/add/remove students\n",
    "\n",
    "print(\"Welcome to Students Database\")\n",
    "while True:\n",
    "    print(\"Enter the number you want to excute or q to quit \\n\",\n",
    "          \"1. Show All Students\\n\",\n",
    "          \"2. Add New Student to the database\\n\",\n",
    "          \"3. How Many Passed The Course\\n\",\n",
    "          \"4. Remove student from the database\\n\",\n",
    "          \"5. Show a Student Informaion\\n\",\n",
    "          \"6. Did The student pass\")\n",
    "    choice = input(\"\").lower().strip()\n",
    "    if choice == 'q':\n",
    "        break\n",
    "    elif choice == '1':\n",
    "        for student in students:\n",
    "            print(student)\n",
    "    elif choice == '2':\n",
    "        stid = input(\"Enter student id: \")\n",
    "        Name = input(\"Ener student Name: \")\n",
    "        results = input(\"Enter Students result of first exam and senconed exam, projects and final exam. Sperated by space: \").split()\n",
    "        exam1,exam2,projects,finalexam = int(results[0]),int(results[1]), int(results[2]),int(results[3])\n",
    "        addstudent(stid,Name,exam1,exam2,projects,finalexam)\n",
    "    elif choice == '3':\n",
    "        print(\"Number of students who passed the course are \",PassStudents(students),\"of \",len(students), \"total students\")\n",
    "    elif choice == '4':\n",
    "        stid = input(\"Enter Student ID To Be Removed\")\n",
    "        removestudent(stid,students)\n",
    "        print(\"Done!\")\n",
    "    elif choice == '5':\n",
    "        stid = input(\"Enter Student ID To Print his information:\")\n",
    "        print(getstudent(stid,students))\n",
    "    elif choice == '6':\n",
    "        stid = input(\"Enter Student ID: \")\n",
    "        if isPassed(stid,students):\n",
    "            print(\"Yes, He Passed\")\n",
    "        else:\n",
    "            print(\"No, He didn't\")\n",
    "    else:\n",
    "        print(\"Invalid input, Please try again or type q to quit\")\n",
    "        \n",
    "          "
   ]
  },
  {
   "cell_type": "code",
   "execution_count": null,
   "metadata": {},
   "outputs": [],
   "source": []
  }
 ],
 "metadata": {
  "kernelspec": {
   "display_name": "Python 3",
   "language": "python",
   "name": "python3"
  },
  "language_info": {
   "codemirror_mode": {
    "name": "ipython",
    "version": 3
   },
   "file_extension": ".py",
   "mimetype": "text/x-python",
   "name": "python",
   "nbconvert_exporter": "python",
   "pygments_lexer": "ipython3",
   "version": "3.7.6"
  }
 },
 "nbformat": 4,
 "nbformat_minor": 4
}
