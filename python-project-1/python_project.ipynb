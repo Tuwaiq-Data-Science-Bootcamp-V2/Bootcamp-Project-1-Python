{
 "cells": [
  {
   "cell_type": "markdown",
   "id": "7b73a9a6",
   "metadata": {},
   "source": [
    "# Python Project 1\n",
    "\n",
    "##### by Lama Mugren"
   ]
  },
  {
   "cell_type": "code",
   "execution_count": 1,
   "id": "b2f698e0",
   "metadata": {
    "scrolled": true
   },
   "outputs": [
    {
     "name": "stdout",
     "output_type": "stream",
     "text": [
      "Enter student name (or 'q' to quit): Arya Stark\n",
      "Enter student age: 12\n",
      "Enter student email: arya.stark@gmail.com\n",
      "Enter student course interest: Public Speaking\n",
      "Enter student name (or 'q' to quit): Sarah Alfaisal\n",
      "Enter student age: 14\n",
      "Enter student email: sarah.alfaisal@gmail.com\n",
      "Enter student course interest: Public Speaking\n",
      "Enter student name (or 'q' to quit): Asma Altayar\n",
      "Enter student age: 9\n",
      "Enter student email: asma.altayar@gmail.com\n",
      "Enter student course interest: Creative Writing\n",
      "Enter student name (or 'q' to quit): Saad Alryan\n",
      "Enter student age: 20\n",
      "Enter student email: saad.alryan@gmail.com\n",
      "Enter student course interest: Creative Writing\n",
      "Enter student name (or 'q' to quit): q\n",
      "Student information saved to student_info.csv\n"
     ]
    }
   ],
   "source": [
    "import pandas as pd\n",
    "\n",
    "# Function to collect student information\n",
    "def collect_student_info():\n",
    "    student_list = []\n",
    "    while True:\n",
    "        name = input(\"Enter student name (or 'q' to quit): \")\n",
    "        if name == 'q':\n",
    "            break\n",
    "        age = int(input(\"Enter student age: \"))\n",
    "        email = input(\"Enter student email: \")\n",
    "        course_interest = input(\"Enter student course interest: \")\n",
    "        student_list.append({'name': name, 'age': age, 'email': email, 'course_interest': course_interest})\n",
    "    return student_list\n",
    "\n",
    "# Function to filter students by age\n",
    "def filter_students_by_age(student_list, age):\n",
    "    filtered_list = list(filter(lambda x: x['age'] <= age, student_list))\n",
    "    return filtered_list\n",
    "\n",
    "# Collect student information\n",
    "student_list = collect_student_info()\n",
    "\n",
    "# Filter students by age\n",
    "filtered_list = filter_students_by_age(student_list, 18)\n",
    "\n",
    "# Create dataframe from filtered list\n",
    "df = pd.DataFrame(filtered_list)\n",
    "\n",
    "# Export dataframe to csv file\n",
    "df.to_csv(\"student_info.csv\", index=False)\n",
    "\n",
    "print(\"Student information saved to student_info.csv\")\n"
   ]
  },
  {
   "cell_type": "markdown",
   "id": "ca43317d",
   "metadata": {},
   "source": [
    "### Reading the data file into a dataframe:"
   ]
  },
  {
   "cell_type": "code",
   "execution_count": 2,
   "id": "3a1954fc",
   "metadata": {},
   "outputs": [],
   "source": [
    "df = pd.read_csv(\"student_info.csv\")"
   ]
  },
  {
   "cell_type": "code",
   "execution_count": 3,
   "id": "a99a15ad",
   "metadata": {
    "scrolled": true
   },
   "outputs": [
    {
     "data": {
      "text/html": [
       "<div>\n",
       "<style scoped>\n",
       "    .dataframe tbody tr th:only-of-type {\n",
       "        vertical-align: middle;\n",
       "    }\n",
       "\n",
       "    .dataframe tbody tr th {\n",
       "        vertical-align: top;\n",
       "    }\n",
       "\n",
       "    .dataframe thead th {\n",
       "        text-align: right;\n",
       "    }\n",
       "</style>\n",
       "<table border=\"1\" class=\"dataframe\">\n",
       "  <thead>\n",
       "    <tr style=\"text-align: right;\">\n",
       "      <th></th>\n",
       "      <th>name</th>\n",
       "      <th>age</th>\n",
       "      <th>email</th>\n",
       "      <th>course_interest</th>\n",
       "    </tr>\n",
       "  </thead>\n",
       "  <tbody>\n",
       "    <tr>\n",
       "      <th>0</th>\n",
       "      <td>Arya Stark</td>\n",
       "      <td>12</td>\n",
       "      <td>arya.stark@gmail.com</td>\n",
       "      <td>Public Speaking</td>\n",
       "    </tr>\n",
       "    <tr>\n",
       "      <th>1</th>\n",
       "      <td>Sarah Alfaisal</td>\n",
       "      <td>14</td>\n",
       "      <td>sarah.alfaisal@gmail.com</td>\n",
       "      <td>Public Speaking</td>\n",
       "    </tr>\n",
       "    <tr>\n",
       "      <th>2</th>\n",
       "      <td>Asma Altayar</td>\n",
       "      <td>9</td>\n",
       "      <td>asma.altayar@gmail.com</td>\n",
       "      <td>Creative Writing</td>\n",
       "    </tr>\n",
       "  </tbody>\n",
       "</table>\n",
       "</div>"
      ],
      "text/plain": [
       "             name  age                     email   course_interest\n",
       "0      Arya Stark   12      arya.stark@gmail.com   Public Speaking\n",
       "1  Sarah Alfaisal   14  sarah.alfaisal@gmail.com   Public Speaking\n",
       "2    Asma Altayar    9    asma.altayar@gmail.com  Creative Writing"
      ]
     },
     "execution_count": 3,
     "metadata": {},
     "output_type": "execute_result"
    }
   ],
   "source": [
    "df"
   ]
  },
  {
   "cell_type": "markdown",
   "id": "0adb57d0",
   "metadata": {},
   "source": [
    "### Calculating Average Age: "
   ]
  },
  {
   "cell_type": "code",
   "execution_count": 4,
   "id": "9f041ed9",
   "metadata": {},
   "outputs": [
    {
     "data": {
      "text/plain": [
       "11.666666666666666"
      ]
     },
     "execution_count": 4,
     "metadata": {},
     "output_type": "execute_result"
    }
   ],
   "source": [
    "# Calculating Average Age\n",
    "df['age'].mean()"
   ]
  },
  {
   "cell_type": "markdown",
   "id": "11cde1b4",
   "metadata": {},
   "source": [
    "# Thank You!"
   ]
  }
 ],
 "metadata": {
  "kernelspec": {
   "display_name": "Python 3 (ipykernel)",
   "language": "python",
   "name": "python3"
  },
  "language_info": {
   "codemirror_mode": {
    "name": "ipython",
    "version": 3
   },
   "file_extension": ".py",
   "mimetype": "text/x-python",
   "name": "python",
   "nbconvert_exporter": "python",
   "pygments_lexer": "ipython3",
   "version": "3.9.13"
  }
 },
 "nbformat": 4,
 "nbformat_minor": 5
}
