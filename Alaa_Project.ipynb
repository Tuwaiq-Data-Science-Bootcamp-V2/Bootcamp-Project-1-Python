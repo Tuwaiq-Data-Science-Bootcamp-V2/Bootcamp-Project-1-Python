{
  "cells": [
    {
      "cell_type": "code",
      "source": [
        "!pip -q install prettytable"
      ],
      "metadata": {
        "id": "I7sVwxvo-iIg"
      },
      "execution_count": 1,
      "outputs": []
    },
    {
      "cell_type": "code",
      "source": [
        "from IPython.display import clear_output\n",
        "from prettytable import PrettyTable\n",
        "import time"
      ],
      "metadata": {
        "id": "Bz99f4RyVkLZ"
      },
      "execution_count": 2,
      "outputs": []
    },
    {
      "cell_type": "code",
      "execution_count": 3,
      "metadata": {
        "id": "5eC_TBFwXLNV"
      },
      "outputs": [],
      "source": [
        "AI_dict = { 'ML':     [{'name': 'linear regression' , 'id': 1 , 'start' : '20-01-2023' , 'end' : '20-02-2023' , 'price' : 100} ,\n",
        "                       {'name': 'Reinforcement Learning' , 'id': 2 , 'start' : '30-01-2023' , 'end' : '25-02-2023' , 'price' : 0.0}],\n",
        "            'DL':     [{'name': 'convolutional Neural Network' , 'id': 3 , 'start' : '25-01-2023' , 'end' : '25-02-2023' , 'price' : 200 } ,\n",
        "                       {'name': 'Natural Language Processing' , 'id': 4 , 'start' : '18-01-2023' , 'end' : '18-02-2023' , 'price' : 150 }],\n",
        "           'Robotics':[{'name': 'Geometry and Mechanics' , 'id': 5 , 'start' : '05-03-2023' , 'end' : '05-04-2023' , 'price' : 125} ,\n",
        "                       {'name': 'Planning and Control  ' , 'id': 6 , 'start' : '01-02-2023' , 'end' : '01-03-2023' , 'price' : 140 }],\n",
        "          }\n"
      ]
    },
    {
      "cell_type": "code",
      "execution_count": 4,
      "metadata": {
        "id": "TxEDu69TXLNX"
      },
      "outputs": [],
      "source": [
        "HR_dict = { 'Organizational Design':     [{'name': 'Command hierarchy' , 'id': 7 , 'start' : '20-01-2023' , 'end' : '20-02-2023' , 'price' : 50} ,\n",
        "                                          {'name': 'Organizational Structure' , 'id': 8 , 'start' : '30-01-2023' , 'end' : '25-02-2023' , 'price' : 0}],\n",
        "            'Employee benefits':         [{'name': 'A strategic approach' , 'id': 9 , 'start' : '25-01-2023' , 'end' : '25-02-2023' , 'price' : 75 } ,\n",
        "                                         {'name': 'Legally required employee benefits ' , 'id': 10 , 'start' : '18-01-2023' , 'end' : '18-02-2023' , 'price' :100 }],\n",
        "           'Training and development':   [{'name': 'HR Metrics' , 'id': 11 , 'start' : '05-03-2023' , 'end' : '05-04-2023' , 'price' : 85} ,\n",
        "                                          {'name': 'HR Tools ' , 'id': 12 , 'start' : '01-02-2023' , 'end' : '01-03-2023' , 'price' :120 }],\n",
        "          }\n"
      ]
    },
    {
      "cell_type": "code",
      "execution_count": 5,
      "metadata": {
        "id": "oh1E0k_GXLNX"
      },
      "outputs": [],
      "source": [
        "E_dict = { 'Writing':     [{'name': 'Learn Writing skills' , 'id': 13 , 'start' : '20-01-2023' , 'end' : '20-02-2023' , 'price' : 150} ,\n",
        "                           {'name': 'How to write easily' , 'id': 14 , 'start' : '30-01-2023' , 'end' : '25-02-2023' , 'price' : 100}],\n",
        "            'Reading':    [{'name': 'Learn Reading skills' , 'id':15 , 'start' : '25-01-2023' , 'end' : '25-02-2023' , 'price' : 80 } ,\n",
        "                           {'name': 'Reading Development' , 'id': 16, 'start' : '18-01-2023' , 'end' : '18-02-2023' , 'price' : 0 }],\n",
        "           'Grammer':     [{'name': 'Grammar and Punctuation' , 'id': 17 , 'start' : '05-03-2023' , 'end' : '05-04-2023' , 'price' : 125} ,\n",
        "                           {'name': ' Advanced Grammar ' , 'id':18 , 'start' : '01-02-2023' , 'end' : '01-03-2023' , 'price' : 90 }],\n",
        "          }\n"
      ]
    },
    {
      "cell_type": "code",
      "execution_count": 6,
      "metadata": {
        "id": "eaBVcXU6XLNX"
      },
      "outputs": [],
      "source": [
        "all_cources_dict = {'computer scince':[{'Artificial intellegence': AI_dict}],\n",
        "                    'Business':       [{'Human Resources': HR_dict}],\n",
        "                    'English':        [{'English': E_dict}]\n",
        "                    }"
      ]
    },
    {
      "cell_type": "code",
      "execution_count": 7,
      "metadata": {
        "id": "lOZZKpvVXLNX"
      },
      "outputs": [],
      "source": [
        "student_dict = {'Alaa' : {'id':1 , 'major':'AI' , 'city':'KSA' , 'job_satus': 'Employee','cources' :[] },\n",
        "                'Mohammed' : {'id':2 , 'major':'computer Engeneering' , 'city':'Egypt' , 'job_satus': 'free lancer','cources': []},\n",
        "                'Amal': {'id':3 , 'major':'business' , 'city':'KSA' , 'job_satus': 'student' , 'cources' :[] }\n",
        "               }"
      ]
    },
    {
      "cell_type": "code",
      "source": [
        "def session_mang(session , clean=False):\n",
        "    if clean == True or len(session)==0:\n",
        "       session = {'profile':[], 'cart':[]}\n",
        "    return session"
      ],
      "metadata": {
        "id": "aYnT0ThUs-lR"
      },
      "execution_count": 8,
      "outputs": []
    },
    {
      "cell_type": "code",
      "source": [
        "log_in = lambda u:list(filter(lambda st:st[0]==u, student_dict.items()))"
      ],
      "metadata": {
        "id": "AABez_20xO0k"
      },
      "execution_count": 9,
      "outputs": []
    },
    {
      "cell_type": "code",
      "source": [
        "log_in('Alaa')[0][0]"
      ],
      "metadata": {
        "colab": {
          "base_uri": "https://localhost:8080/",
          "height": 36
        },
        "id": "pqn0i_ZI6Tei",
        "outputId": "c9e46325-3484-4357-9b0e-158d6c5585f7"
      },
      "execution_count": 10,
      "outputs": [
        {
          "output_type": "execute_result",
          "data": {
            "text/plain": [
              "'Alaa'"
            ],
            "application/vnd.google.colaboratory.intrinsic+json": {
              "type": "string"
            }
          },
          "metadata": {},
          "execution_count": 10
        }
      ]
    },
    {
      "cell_type": "code",
      "source": [
        "global all_c\n",
        "all_c = []\n",
        "\n",
        "loop = lambda func,data:list(map(func, data))\n",
        "\n",
        "loop(lambda x:\n",
        "         loop(lambda s:\n",
        "              loop(lambda m:\n",
        "                   loop(lambda k:\n",
        "                        loop(lambda c:\n",
        "                             all_c.append({'F1':m, 'F2':k, **c}) \n",
        "                        ,s[m][k])\n",
        "                   ,s[m])\n",
        "              ,s)\n",
        "         ,x[1])\n",
        "    ,all_cources_dict.items())\n",
        "\n",
        "get_course = lambda s:list(filter(lambda c:c['id']==s ,all_c))\n",
        "print(all_c) "
      ],
      "metadata": {
        "colab": {
          "base_uri": "https://localhost:8080/"
        },
        "id": "LXyjcmmUm4Bh",
        "outputId": "1acbca0b-1f40-4e3b-8844-2ec57d031227"
      },
      "execution_count": 11,
      "outputs": [
        {
          "output_type": "stream",
          "name": "stdout",
          "text": [
            "[{'F1': 'Artificial intellegence', 'F2': 'ML', 'name': 'linear regression', 'id': 1, 'start': '20-01-2023', 'end': '20-02-2023', 'price': 100}, {'F1': 'Artificial intellegence', 'F2': 'ML', 'name': 'Reinforcement Learning', 'id': 2, 'start': '30-01-2023', 'end': '25-02-2023', 'price': 0.0}, {'F1': 'Artificial intellegence', 'F2': 'DL', 'name': 'convolutional Neural Network', 'id': 3, 'start': '25-01-2023', 'end': '25-02-2023', 'price': 200}, {'F1': 'Artificial intellegence', 'F2': 'DL', 'name': 'Natural Language Processing', 'id': 4, 'start': '18-01-2023', 'end': '18-02-2023', 'price': 150}, {'F1': 'Artificial intellegence', 'F2': 'Robotics', 'name': 'Geometry and Mechanics', 'id': 5, 'start': '05-03-2023', 'end': '05-04-2023', 'price': 125}, {'F1': 'Artificial intellegence', 'F2': 'Robotics', 'name': 'Planning and Control  ', 'id': 6, 'start': '01-02-2023', 'end': '01-03-2023', 'price': 140}, {'F1': 'Human Resources', 'F2': 'Organizational Design', 'name': 'Command hierarchy', 'id': 7, 'start': '20-01-2023', 'end': '20-02-2023', 'price': 50}, {'F1': 'Human Resources', 'F2': 'Organizational Design', 'name': 'Organizational Structure', 'id': 8, 'start': '30-01-2023', 'end': '25-02-2023', 'price': 0}, {'F1': 'Human Resources', 'F2': 'Employee benefits', 'name': 'A strategic approach', 'id': 9, 'start': '25-01-2023', 'end': '25-02-2023', 'price': 75}, {'F1': 'Human Resources', 'F2': 'Employee benefits', 'name': 'Legally required employee benefits ', 'id': 10, 'start': '18-01-2023', 'end': '18-02-2023', 'price': 100}, {'F1': 'Human Resources', 'F2': 'Training and development', 'name': 'HR Metrics', 'id': 11, 'start': '05-03-2023', 'end': '05-04-2023', 'price': 85}, {'F1': 'Human Resources', 'F2': 'Training and development', 'name': 'HR Tools ', 'id': 12, 'start': '01-02-2023', 'end': '01-03-2023', 'price': 120}, {'F1': 'English', 'F2': 'Writing', 'name': 'Learn Writing skills', 'id': 13, 'start': '20-01-2023', 'end': '20-02-2023', 'price': 150}, {'F1': 'English', 'F2': 'Writing', 'name': 'How to write easily', 'id': 14, 'start': '30-01-2023', 'end': '25-02-2023', 'price': 100}, {'F1': 'English', 'F2': 'Reading', 'name': 'Learn Reading skills', 'id': 15, 'start': '25-01-2023', 'end': '25-02-2023', 'price': 80}, {'F1': 'English', 'F2': 'Reading', 'name': 'Reading Development', 'id': 16, 'start': '18-01-2023', 'end': '18-02-2023', 'price': 0}, {'F1': 'English', 'F2': 'Grammer', 'name': 'Grammar and Punctuation', 'id': 17, 'start': '05-03-2023', 'end': '05-04-2023', 'price': 125}, {'F1': 'English', 'F2': 'Grammer', 'name': ' Advanced Grammar ', 'id': 18, 'start': '01-02-2023', 'end': '01-03-2023', 'price': 90}]\n"
          ]
        }
      ]
    },
    {
      "cell_type": "code",
      "source": [
        "get_course(18)"
      ],
      "metadata": {
        "id": "bYzR4h86vD6Z",
        "colab": {
          "base_uri": "https://localhost:8080/"
        },
        "outputId": "8ec5b8ae-cdd5-4b42-e89c-e1ebd7b7a891"
      },
      "execution_count": 12,
      "outputs": [
        {
          "output_type": "execute_result",
          "data": {
            "text/plain": [
              "[{'F1': 'English',\n",
              "  'F2': 'Grammer',\n",
              "  'name': ' Advanced Grammar ',\n",
              "  'id': 18,\n",
              "  'start': '01-02-2023',\n",
              "  'end': '01-03-2023',\n",
              "  'price': 90}]"
            ]
          },
          "metadata": {},
          "execution_count": 12
        }
      ]
    },
    {
      "cell_type": "code",
      "source": [
        "def print_1course(c):\n",
        "    clear_output()\n",
        "    p_table= PrettyTable()\n",
        "    p_table.field_names= ['section','sub_section','Name','Id','Start','End','Price']\n",
        "    for c1 in c:\n",
        "        row= list(map(lambda row:row,c1.values()))\n",
        "        p_table.add_row(row)\n",
        "    print(p_table)\n",
        "\n",
        "print_1course(get_course(15))"
      ],
      "metadata": {
        "id": "k88gI-n50KLp",
        "colab": {
          "base_uri": "https://localhost:8080/"
        },
        "outputId": "40ae0150-f84d-4363-d2f6-82c509489ab9"
      },
      "execution_count": 13,
      "outputs": [
        {
          "output_type": "stream",
          "name": "stdout",
          "text": [
            "+---------+-------------+----------------------+----+------------+------------+-------+\n",
            "| section | sub_section |         Name         | Id |   Start    |    End     | Price |\n",
            "+---------+-------------+----------------------+----+------------+------------+-------+\n",
            "| English |   Reading   | Learn Reading skills | 15 | 25-01-2023 | 25-02-2023 |   80  |\n",
            "+---------+-------------+----------------------+----+------------+------------+-------+\n"
          ]
        }
      ]
    },
    {
      "cell_type": "code",
      "source": [
        "def print_list_course(c_all):\n",
        "    p_table= PrettyTable()\n",
        "    p_table.field_names= ['Sub Section','Name','Id','Start','End','Price']\n",
        "    for c in c_all.items():\n",
        "        for c1 in c[1]:\n",
        "          row= list(map(lambda row:row,c1.values()))\n",
        "          p_table.add_row([c[0]]+row)\n",
        "    print(p_table)"
      ],
      "metadata": {
        "id": "NXEXtKfxGZ2j"
      },
      "execution_count": 14,
      "outputs": []
    },
    {
      "cell_type": "code",
      "source": [
        "print_list_course(AI_dict)"
      ],
      "metadata": {
        "colab": {
          "base_uri": "https://localhost:8080/"
        },
        "id": "gx4gl0PtIGhz",
        "outputId": "bbc26490-b804-4ba3-b9fe-1df9a4cf4e4b"
      },
      "execution_count": 15,
      "outputs": [
        {
          "output_type": "stream",
          "name": "stdout",
          "text": [
            "+-------------+------------------------------+----+------------+------------+-------+\n",
            "| Sub Section |             Name             | Id |   Start    |    End     | Price |\n",
            "+-------------+------------------------------+----+------------+------------+-------+\n",
            "|      ML     |      linear regression       | 1  | 20-01-2023 | 20-02-2023 |  100  |\n",
            "|      ML     |    Reinforcement Learning    | 2  | 30-01-2023 | 25-02-2023 |  0.0  |\n",
            "|      DL     | convolutional Neural Network | 3  | 25-01-2023 | 25-02-2023 |  200  |\n",
            "|      DL     | Natural Language Processing  | 4  | 18-01-2023 | 18-02-2023 |  150  |\n",
            "|   Robotics  |    Geometry and Mechanics    | 5  | 05-03-2023 | 05-04-2023 |  125  |\n",
            "|   Robotics  |    Planning and Control      | 6  | 01-02-2023 | 01-03-2023 |  140  |\n",
            "+-------------+------------------------------+----+------------+------------+-------+\n"
          ]
        }
      ]
    },
    {
      "cell_type": "code",
      "source": [
        "def show_cources():\n",
        "    for key in all_cources_dict:\n",
        "        print(key)\n",
        "        cu=list(map(lambda n:n ,all_cources_dict[key]))[0]\n",
        "        for c in cu:\n",
        "            print_list_course(cu[c])"
      ],
      "metadata": {
        "id": "VQVSw3N18bBH"
      },
      "execution_count": 16,
      "outputs": []
    },
    {
      "cell_type": "code",
      "source": [
        "show_cources()"
      ],
      "metadata": {
        "colab": {
          "base_uri": "https://localhost:8080/"
        },
        "id": "NblbvpJHPY0q",
        "outputId": "621fd82f-0a22-4064-d5f5-63561bbd50f8"
      },
      "execution_count": 17,
      "outputs": [
        {
          "output_type": "stream",
          "name": "stdout",
          "text": [
            "computer scince\n",
            "+-------------+------------------------------+----+------------+------------+-------+\n",
            "| Sub Section |             Name             | Id |   Start    |    End     | Price |\n",
            "+-------------+------------------------------+----+------------+------------+-------+\n",
            "|      ML     |      linear regression       | 1  | 20-01-2023 | 20-02-2023 |  100  |\n",
            "|      ML     |    Reinforcement Learning    | 2  | 30-01-2023 | 25-02-2023 |  0.0  |\n",
            "|      DL     | convolutional Neural Network | 3  | 25-01-2023 | 25-02-2023 |  200  |\n",
            "|      DL     | Natural Language Processing  | 4  | 18-01-2023 | 18-02-2023 |  150  |\n",
            "|   Robotics  |    Geometry and Mechanics    | 5  | 05-03-2023 | 05-04-2023 |  125  |\n",
            "|   Robotics  |    Planning and Control      | 6  | 01-02-2023 | 01-03-2023 |  140  |\n",
            "+-------------+------------------------------+----+------------+------------+-------+\n",
            "Business\n",
            "+--------------------------+-------------------------------------+----+------------+------------+-------+\n",
            "|       Sub Section        |                 Name                | Id |   Start    |    End     | Price |\n",
            "+--------------------------+-------------------------------------+----+------------+------------+-------+\n",
            "|  Organizational Design   |          Command hierarchy          | 7  | 20-01-2023 | 20-02-2023 |   50  |\n",
            "|  Organizational Design   |       Organizational Structure      | 8  | 30-01-2023 | 25-02-2023 |   0   |\n",
            "|    Employee benefits     |         A strategic approach        | 9  | 25-01-2023 | 25-02-2023 |   75  |\n",
            "|    Employee benefits     | Legally required employee benefits  | 10 | 18-01-2023 | 18-02-2023 |  100  |\n",
            "| Training and development |              HR Metrics             | 11 | 05-03-2023 | 05-04-2023 |   85  |\n",
            "| Training and development |              HR Tools               | 12 | 01-02-2023 | 01-03-2023 |  120  |\n",
            "+--------------------------+-------------------------------------+----+------------+------------+-------+\n",
            "English\n",
            "+-------------+-------------------------+----+------------+------------+-------+\n",
            "| Sub Section |           Name          | Id |   Start    |    End     | Price |\n",
            "+-------------+-------------------------+----+------------+------------+-------+\n",
            "|   Writing   |   Learn Writing skills  | 13 | 20-01-2023 | 20-02-2023 |  150  |\n",
            "|   Writing   |   How to write easily   | 14 | 30-01-2023 | 25-02-2023 |  100  |\n",
            "|   Reading   |   Learn Reading skills  | 15 | 25-01-2023 | 25-02-2023 |   80  |\n",
            "|   Reading   |   Reading Development   | 16 | 18-01-2023 | 18-02-2023 |   0   |\n",
            "|   Grammer   | Grammar and Punctuation | 17 | 05-03-2023 | 05-04-2023 |  125  |\n",
            "|   Grammer   |     Advanced Grammar    | 18 | 01-02-2023 | 01-03-2023 |   90  |\n",
            "+-------------+-------------------------+----+------------+------------+-------+\n"
          ]
        }
      ]
    },
    {
      "cell_type": "code",
      "source": [
        "def in_pr(typ):\n",
        "    time.sleep(1.5)\n",
        "    print('Type: ',typ)\n",
        "    if typ=='login':\n",
        "       return input('Please Enter Your Name: ')\n",
        "    elif typ=='sel_cors':\n",
        "       print(\"For Exit [x] |  Log out [Q] | My cources [U] | My Cart [C] \")\n",
        "       return input('Please Enter ID of course you want: ')\n",
        "    elif typ=='Show_Course':\n",
        "       print(\"For Exit [X] |  Log out [Q] | Home page [H] | My cources [U] | My Cart [C]\")\n",
        "       print(\"Enroll course [E]\")\n",
        "       return input('Add Course to cart: [A] ')\n",
        "    elif typ=='show_my_cources':\n",
        "       print(\"For Exit [x] |  Log out [Q] | Home page [H] | My Cart [C]\")\n",
        "       return input('Please Enter ID of course you want: ')\n",
        "    elif typ=='show_my_cart':\n",
        "       print(\"For Exit [x] |  Log out [Q] | Home page [H] | My cources [U]\")\n",
        "       return input('Please Enter ID of course you want  ') \n",
        "    elif typ=='Edit_course_in_cart':\n",
        "       print(\"For Exit [X] |  Log out [Q] | Home page [H] | My cources [U] | My Cart [C]\")\n",
        "       print(\"Delete course [D]\")\n",
        "       return input(\"Enroll course [E]\")         \n",
        "    elif typ=='Enroll_already':\n",
        "       print(\"For Exit [X] |  Log out [Q] | Home page [H] | My cources [U] | My Cart [C]\")\n",
        "       print(\"You have already Enroll for this course\")\n",
        "       return input('Back to Home Page: [H] ')\n"
      ],
      "metadata": {
        "id": "M8ow-1U11oYA"
      },
      "execution_count": 18,
      "outputs": []
    },
    {
      "cell_type": "code",
      "source": [
        "def exit_q(sel,sess):\n",
        "     if sel in [\"x\",\"X\"]:\n",
        "        print(\"Bye\")\n",
        "        return 'x',sess \n",
        "        \n",
        "     if sel in [\"q\",\"Q\"]:\n",
        "        print(\"You are logged out\")\n",
        "        sess = session_mang({})\n",
        "        clear_output()\n",
        "        return 'q',sess\n",
        "     return True , sess   "
      ],
      "metadata": {
        "id": "Acc1FsyOabFL"
      },
      "execution_count": 19,
      "outputs": []
    },
    {
      "cell_type": "code",
      "execution_count": 20,
      "metadata": {
        "id": "Sw4UfIMHXLNX"
      },
      "outputs": [],
      "source": [
        "def _main():\n",
        "    sess = session_mang({})\n",
        "    while True:\n",
        "\n",
        "      if not sess['profile']:\n",
        "         name= in_pr('login') \n",
        "         pr= log_in(name)\n",
        "         if pr:\n",
        "            sess['profile']= pr[0]\n",
        "            print(f\"Hi: {pr[0][0]}\")\n",
        "         else:\n",
        "            print(\"*You Must Enter Your Name*\") \n",
        "            continue\n",
        "      clear_output()\n",
        "      time.sleep(1.5)\n",
        "      show_cources() \n",
        "      sel=in_pr(\"sel_cors\")           \n",
        "      r,sess = exit_q(sel,sess)\n",
        "      if r=='c':\n",
        "         continue\n",
        "      elif r =='x':\n",
        "         break \n",
        "      elif sel in ['u', 'U']:\n",
        "           name=sess['profile'][0]\n",
        "           print_1course(student_dict[name]['cources'])\n",
        "           sel=in_pr('show_my_cources')\n",
        "      if sel in ['c', 'C']:\n",
        "           print_1course(sess['cart'])\n",
        "           sel=in_pr('show_my_cart') \n",
        "           try:\n",
        "              res=int(sel)\n",
        "              course=get_course(res) \n",
        "              print_1course(course)  \n",
        "              sel=in_pr('Edit_course_in_cart')\n",
        "              r,sess = exit_q(sel,sess)\n",
        "              if r=='q':\n",
        "                continue\n",
        "              elif r=='x' :\n",
        "                break               \n",
        "              elif sel in ['e', 'E']:\n",
        "                 student_dict[name]['cources'].append(course[0])\n",
        "              if sel in ['d', 'D', 'e', 'E']:\n",
        "                   print_1course(sess['cart'])\n",
        "                   idx=sess['cart'].index(course[0])\n",
        "                   sess['cart'].pop(idx)\n",
        "           except:\n",
        "              r,sess = exit_q(sel,sess)\n",
        "              if r=='q':\n",
        "                continue\n",
        "              elif r =='x' :\n",
        "                break \n",
        "              if sel in ['u', 'U']:\n",
        "                print_1course(student_dict[name]['cources'])\n",
        "                sel=in_pr('show_my_cources')\n",
        "      try:\n",
        "        res= int (sel) \n",
        "        course =get_course(res)\n",
        "        print_1course(course)\n",
        "        if course[0] in student_dict[name]['cources']:\n",
        "           sel= in_pr('Enroll_already')\n",
        "           sel = 'H' if sel [\"a\", \"A\",'e', 'E'] else sel\n",
        "        else:\n",
        "           sel= in_pr('Show_Course')\n",
        "        r,sess = exit_q(sel,sess)\n",
        "        if r =='q':\n",
        "           continue\n",
        "        if r=='x':\n",
        "           break \n",
        "        if sel in [\"h\",\"H\"]:\n",
        "           continue   \n",
        "        if sel in [\"a\", \"A\"]:  \n",
        "           sess['cart'].append(course[0])  \n",
        "        if sel in ['e', 'E']:\n",
        "           student_dict[name]['cources'].append(course[0])\n",
        "           print_1course(sess['cart'])\n",
        "           idx=sess['cart'].index(course[0])\n",
        "           sess['cart'].pop(idx)\n",
        "        if sel in ['u', 'U']:\n",
        "           print_1course(student_dict[name]['cources'])\n",
        "           sel=in_pr('show_my_cources')\n",
        "        if sel in ['c', 'C']:\n",
        "           print_1course(sess['cart'])\n",
        "           sel=in_pr('show_my_cart')\n",
        "           try:\n",
        "              res=int(sel)\n",
        "              course=get_course(res) \n",
        "              print_1course(course)  \n",
        "              sel=in_pr('Edit_course_in_cart')\n",
        "              r,sess = exit_q(sel,sess)\n",
        "              if r=='q':\n",
        "                continue\n",
        "              if r=='x':\n",
        "                break               \n",
        "              if sel in ['e', 'E']:\n",
        "                 student_dict[name]['cources'].append(course[0])\n",
        "              if sel in ['d', 'D', 'e', 'E']:\n",
        "                   print_1course(sess['cart'])\n",
        "                   idx=sess['cart'].index(course[0])\n",
        "                   sess['cart'].pop(idx)\n",
        "           except:\n",
        "              r,sess = exit_q(sel,sess)\n",
        "              if r=='q':\n",
        "                continue\n",
        "              elif r =='x' :\n",
        "                break \n",
        "\n",
        "      except:\n",
        "          r,sess = exit_q(sel,sess)\n",
        "          if r=='q':\n",
        "            continue\n",
        "          elif r =='x':\n",
        "            break \n"
      ]
    },
    {
      "cell_type": "code",
      "source": [
        "_main() "
      ],
      "metadata": {
        "colab": {
          "base_uri": "https://localhost:8080/",
          "height": 918
        },
        "id": "fl5rCm5FYGWO",
        "outputId": "9732b6f6-d3b3-4082-c8ca-eeba2022d059"
      },
      "execution_count": 21,
      "outputs": [
        {
          "output_type": "stream",
          "name": "stdout",
          "text": [
            "computer scince\n",
            "+-------------+------------------------------+----+------------+------------+-------+\n",
            "| Sub Section |             Name             | Id |   Start    |    End     | Price |\n",
            "+-------------+------------------------------+----+------------+------------+-------+\n",
            "|      ML     |      linear regression       | 1  | 20-01-2023 | 20-02-2023 |  100  |\n",
            "|      ML     |    Reinforcement Learning    | 2  | 30-01-2023 | 25-02-2023 |  0.0  |\n",
            "|      DL     | convolutional Neural Network | 3  | 25-01-2023 | 25-02-2023 |  200  |\n",
            "|      DL     | Natural Language Processing  | 4  | 18-01-2023 | 18-02-2023 |  150  |\n",
            "|   Robotics  |    Geometry and Mechanics    | 5  | 05-03-2023 | 05-04-2023 |  125  |\n",
            "|   Robotics  |    Planning and Control      | 6  | 01-02-2023 | 01-03-2023 |  140  |\n",
            "+-------------+------------------------------+----+------------+------------+-------+\n",
            "Business\n",
            "+--------------------------+-------------------------------------+----+------------+------------+-------+\n",
            "|       Sub Section        |                 Name                | Id |   Start    |    End     | Price |\n",
            "+--------------------------+-------------------------------------+----+------------+------------+-------+\n",
            "|  Organizational Design   |          Command hierarchy          | 7  | 20-01-2023 | 20-02-2023 |   50  |\n",
            "|  Organizational Design   |       Organizational Structure      | 8  | 30-01-2023 | 25-02-2023 |   0   |\n",
            "|    Employee benefits     |         A strategic approach        | 9  | 25-01-2023 | 25-02-2023 |   75  |\n",
            "|    Employee benefits     | Legally required employee benefits  | 10 | 18-01-2023 | 18-02-2023 |  100  |\n",
            "| Training and development |              HR Metrics             | 11 | 05-03-2023 | 05-04-2023 |   85  |\n",
            "| Training and development |              HR Tools               | 12 | 01-02-2023 | 01-03-2023 |  120  |\n",
            "+--------------------------+-------------------------------------+----+------------+------------+-------+\n",
            "English\n",
            "+-------------+-------------------------+----+------------+------------+-------+\n",
            "| Sub Section |           Name          | Id |   Start    |    End     | Price |\n",
            "+-------------+-------------------------+----+------------+------------+-------+\n",
            "|   Writing   |   Learn Writing skills  | 13 | 20-01-2023 | 20-02-2023 |  150  |\n",
            "|   Writing   |   How to write easily   | 14 | 30-01-2023 | 25-02-2023 |  100  |\n",
            "|   Reading   |   Learn Reading skills  | 15 | 25-01-2023 | 25-02-2023 |   80  |\n",
            "|   Reading   |   Reading Development   | 16 | 18-01-2023 | 18-02-2023 |   0   |\n",
            "|   Grammer   | Grammar and Punctuation | 17 | 05-03-2023 | 05-04-2023 |  125  |\n",
            "|   Grammer   |     Advanced Grammar    | 18 | 01-02-2023 | 01-03-2023 |   90  |\n",
            "+-------------+-------------------------+----+------------+------------+-------+\n",
            "Type:  sel_cors\n",
            "For Exit [x] |  Log out [Q] | My cources [U] | My Cart [C] \n"
          ]
        },
        {
          "output_type": "error",
          "ename": "KeyboardInterrupt",
          "evalue": "ignored",
          "traceback": [
            "\u001b[0;31m---------------------------------------------------------------------------\u001b[0m",
            "\u001b[0;31mKeyboardInterrupt\u001b[0m                         Traceback (most recent call last)",
            "\u001b[0;32m<ipython-input-21-71e9c849f7ae>\u001b[0m in \u001b[0;36m<module>\u001b[0;34m\u001b[0m\n\u001b[0;32m----> 1\u001b[0;31m \u001b[0m_main\u001b[0m\u001b[0;34m(\u001b[0m\u001b[0;34m)\u001b[0m\u001b[0;34m\u001b[0m\u001b[0;34m\u001b[0m\u001b[0m\n\u001b[0m",
            "\u001b[0;32m<ipython-input-20-42bc7500516f>\u001b[0m in \u001b[0;36m_main\u001b[0;34m()\u001b[0m\n\u001b[1;32m     15\u001b[0m       \u001b[0mtime\u001b[0m\u001b[0;34m.\u001b[0m\u001b[0msleep\u001b[0m\u001b[0;34m(\u001b[0m\u001b[0;36m1.5\u001b[0m\u001b[0;34m)\u001b[0m\u001b[0;34m\u001b[0m\u001b[0;34m\u001b[0m\u001b[0m\n\u001b[1;32m     16\u001b[0m       \u001b[0mshow_cources\u001b[0m\u001b[0;34m(\u001b[0m\u001b[0;34m)\u001b[0m\u001b[0;34m\u001b[0m\u001b[0;34m\u001b[0m\u001b[0m\n\u001b[0;32m---> 17\u001b[0;31m       \u001b[0msel\u001b[0m\u001b[0;34m=\u001b[0m\u001b[0min_pr\u001b[0m\u001b[0;34m(\u001b[0m\u001b[0;34m\"sel_cors\"\u001b[0m\u001b[0;34m)\u001b[0m\u001b[0;34m\u001b[0m\u001b[0;34m\u001b[0m\u001b[0m\n\u001b[0m\u001b[1;32m     18\u001b[0m       \u001b[0mr\u001b[0m\u001b[0;34m,\u001b[0m\u001b[0msess\u001b[0m \u001b[0;34m=\u001b[0m \u001b[0mexit_q\u001b[0m\u001b[0;34m(\u001b[0m\u001b[0msel\u001b[0m\u001b[0;34m,\u001b[0m\u001b[0msess\u001b[0m\u001b[0;34m)\u001b[0m\u001b[0;34m\u001b[0m\u001b[0;34m\u001b[0m\u001b[0m\n\u001b[1;32m     19\u001b[0m       \u001b[0;32mif\u001b[0m \u001b[0mr\u001b[0m\u001b[0;34m==\u001b[0m\u001b[0;34m'c'\u001b[0m\u001b[0;34m:\u001b[0m\u001b[0;34m\u001b[0m\u001b[0;34m\u001b[0m\u001b[0m\n",
            "\u001b[0;32m<ipython-input-18-87d42625ed2f>\u001b[0m in \u001b[0;36min_pr\u001b[0;34m(typ)\u001b[0m\n\u001b[1;32m      6\u001b[0m     \u001b[0;32melif\u001b[0m \u001b[0mtyp\u001b[0m\u001b[0;34m==\u001b[0m\u001b[0;34m'sel_cors'\u001b[0m\u001b[0;34m:\u001b[0m\u001b[0;34m\u001b[0m\u001b[0;34m\u001b[0m\u001b[0m\n\u001b[1;32m      7\u001b[0m        \u001b[0mprint\u001b[0m\u001b[0;34m(\u001b[0m\u001b[0;34m\"For Exit [x] |  Log out [Q] | My cources [U] | My Cart [C] \"\u001b[0m\u001b[0;34m)\u001b[0m\u001b[0;34m\u001b[0m\u001b[0;34m\u001b[0m\u001b[0m\n\u001b[0;32m----> 8\u001b[0;31m        \u001b[0;32mreturn\u001b[0m \u001b[0minput\u001b[0m\u001b[0;34m(\u001b[0m\u001b[0;34m'Please Enter ID of course you want: '\u001b[0m\u001b[0;34m)\u001b[0m\u001b[0;34m\u001b[0m\u001b[0;34m\u001b[0m\u001b[0m\n\u001b[0m\u001b[1;32m      9\u001b[0m     \u001b[0;32melif\u001b[0m \u001b[0mtyp\u001b[0m\u001b[0;34m==\u001b[0m\u001b[0;34m'Show_Course'\u001b[0m\u001b[0;34m:\u001b[0m\u001b[0;34m\u001b[0m\u001b[0;34m\u001b[0m\u001b[0m\n\u001b[1;32m     10\u001b[0m        \u001b[0mprint\u001b[0m\u001b[0;34m(\u001b[0m\u001b[0;34m\"For Exit [X] |  Log out [Q] | Home page [H] | My cources [U] | My Cart [C]\"\u001b[0m\u001b[0;34m)\u001b[0m\u001b[0;34m\u001b[0m\u001b[0;34m\u001b[0m\u001b[0m\n",
            "\u001b[0;32m/usr/local/lib/python3.8/dist-packages/ipykernel/kernelbase.py\u001b[0m in \u001b[0;36mraw_input\u001b[0;34m(self, prompt)\u001b[0m\n\u001b[1;32m    858\u001b[0m                 \u001b[0;34m\"raw_input was called, but this frontend does not support input requests.\"\u001b[0m\u001b[0;34m\u001b[0m\u001b[0;34m\u001b[0m\u001b[0m\n\u001b[1;32m    859\u001b[0m             )\n\u001b[0;32m--> 860\u001b[0;31m         return self._input_request(str(prompt),\n\u001b[0m\u001b[1;32m    861\u001b[0m             \u001b[0mself\u001b[0m\u001b[0;34m.\u001b[0m\u001b[0m_parent_ident\u001b[0m\u001b[0;34m,\u001b[0m\u001b[0;34m\u001b[0m\u001b[0;34m\u001b[0m\u001b[0m\n\u001b[1;32m    862\u001b[0m             \u001b[0mself\u001b[0m\u001b[0;34m.\u001b[0m\u001b[0m_parent_header\u001b[0m\u001b[0;34m,\u001b[0m\u001b[0;34m\u001b[0m\u001b[0;34m\u001b[0m\u001b[0m\n",
            "\u001b[0;32m/usr/local/lib/python3.8/dist-packages/ipykernel/kernelbase.py\u001b[0m in \u001b[0;36m_input_request\u001b[0;34m(self, prompt, ident, parent, password)\u001b[0m\n\u001b[1;32m    902\u001b[0m             \u001b[0;32mexcept\u001b[0m \u001b[0mKeyboardInterrupt\u001b[0m\u001b[0;34m:\u001b[0m\u001b[0;34m\u001b[0m\u001b[0;34m\u001b[0m\u001b[0m\n\u001b[1;32m    903\u001b[0m                 \u001b[0;31m# re-raise KeyboardInterrupt, to truncate traceback\u001b[0m\u001b[0;34m\u001b[0m\u001b[0;34m\u001b[0m\u001b[0;34m\u001b[0m\u001b[0m\n\u001b[0;32m--> 904\u001b[0;31m                 \u001b[0;32mraise\u001b[0m \u001b[0mKeyboardInterrupt\u001b[0m\u001b[0;34m(\u001b[0m\u001b[0;34m\"Interrupted by user\"\u001b[0m\u001b[0;34m)\u001b[0m \u001b[0;32mfrom\u001b[0m \u001b[0;32mNone\u001b[0m\u001b[0;34m\u001b[0m\u001b[0;34m\u001b[0m\u001b[0m\n\u001b[0m\u001b[1;32m    905\u001b[0m             \u001b[0;32mexcept\u001b[0m \u001b[0mException\u001b[0m \u001b[0;32mas\u001b[0m \u001b[0me\u001b[0m\u001b[0;34m:\u001b[0m\u001b[0;34m\u001b[0m\u001b[0;34m\u001b[0m\u001b[0m\n\u001b[1;32m    906\u001b[0m                 \u001b[0mself\u001b[0m\u001b[0;34m.\u001b[0m\u001b[0mlog\u001b[0m\u001b[0;34m.\u001b[0m\u001b[0mwarning\u001b[0m\u001b[0;34m(\u001b[0m\u001b[0;34m\"Invalid Message:\"\u001b[0m\u001b[0;34m,\u001b[0m \u001b[0mexc_info\u001b[0m\u001b[0;34m=\u001b[0m\u001b[0;32mTrue\u001b[0m\u001b[0;34m)\u001b[0m\u001b[0;34m\u001b[0m\u001b[0;34m\u001b[0m\u001b[0m\n",
            "\u001b[0;31mKeyboardInterrupt\u001b[0m: Interrupted by user"
          ]
        }
      ]
    }
  ],
  "metadata": {
    "kernelspec": {
      "display_name": "Python 3",
      "language": "python",
      "name": "python3"
    },
    "language_info": {
      "codemirror_mode": {
        "name": "ipython",
        "version": 3
      },
      "file_extension": ".py",
      "mimetype": "text/x-python",
      "name": "python",
      "nbconvert_exporter": "python",
      "pygments_lexer": "ipython3",
      "version": "3.8.5"
    },
    "colab": {
      "provenance": []
    }
  },
  "nbformat": 4,
  "nbformat_minor": 0
}