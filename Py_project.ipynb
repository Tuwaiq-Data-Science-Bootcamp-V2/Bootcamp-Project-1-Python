{
  "nbformat": 4,
  "nbformat_minor": 0,
  "metadata": {
    "colab": {
      "provenance": []
    },
    "kernelspec": {
      "name": "python3",
      "display_name": "Python 3"
    },
    "language_info": {
      "name": "python"
    }
  },
  "cells": [
    {
      "cell_type": "markdown",
      "source": [
        "#Python Project "
      ],
      "metadata": {
        "id": "M4yG74VYSavE"
      }
    },
    {
      "cell_type": "code",
      "source": [
        "courses={\n",
        "    1:{'name':'python_101','time':10,'price':200,'stauts':'available'},\n",
        "    2:{'name':'python_103','time':15,'price':150,'stauts':'available'},\n",
        "    3:{'name':'SQL','time':9,'price':150,'stauts':'not available'},\n",
        "    4:{'name':'machine_learning','time':20,'price':600,'stauts':'available'},\n",
        "    5:{'name':'Excel','time':8,'price':50,'stauts':'not available'},\n",
        "    6:{'name':'java','time':20,'price':200,'stauts':'available'},\n",
        "    7:{'name':'AI','time':10,'price':150,'stauts':'available'},\n",
        "    8:{'name':'SQL_101','time':10,'price':150,'stauts':'not available'},\n",
        "}\n",
        "\n",
        "student={\n",
        "\n",
        "    'Student 1': {'Name': 'Bobby','password':'b_rr','coures':'SQL'},\n",
        "    'Student 2': {'Name': 'haneen','password':'h_rr','coures':'machine_learning'},\n",
        "    'Student 3': {'Name': 'role','password':'r_rr','coures':'Excel'}\n",
        "}\n",
        "\n",
        "\n",
        " "
      ],
      "metadata": {
        "id": "QlWJ3R4siyb_"
      },
      "execution_count": 49,
      "outputs": []
    },
    {
      "cell_type": "code",
      "source": [
        "\n",
        "def sort_coureses():\n",
        "  list=['name','price','time']\n",
        "  key=input(' Enter key :')\n",
        "  if key in list:\n",
        "    sorted_cou= dict(sorted(courses.items(), key=lambda k: k[1][key]))\n",
        "    for coures_id,coures_inf in sorted_cou.items():\n",
        "      for key in coures_inf:\n",
        "        if key =='stauts' and coures_inf[key]=='available':\n",
        "          print(coures_inf)\n",
        "  else:\n",
        "    print(' wrong key ')       \n",
        "\n",
        "sort_coureses()\n"
      ],
      "metadata": {
        "colab": {
          "base_uri": "https://localhost:8080/"
        },
        "id": "pbJ6Tse5Z-59",
        "outputId": "10b4df2e-d73f-4dd6-aed2-9cf90db86653"
      },
      "execution_count": 50,
      "outputs": [
        {
          "output_type": "stream",
          "name": "stdout",
          "text": [
            " Enter key :name\n",
            "{'name': 'AI', 'time': 10, 'price': 150, 'stauts': 'available'}\n",
            "{'name': 'java', 'time': 20, 'price': 200, 'stauts': 'available'}\n",
            "{'name': 'machine_learning', 'time': 20, 'price': 600, 'stauts': 'available'}\n",
            "{'name': 'python_101', 'time': 10, 'price': 200, 'stauts': 'available'}\n",
            "{'name': 'python_103', 'time': 15, 'price': 150, 'stauts': 'available'}\n"
          ]
        }
      ]
    },
    {
      "cell_type": "code",
      "source": [
        "def student_inf():\n",
        "  name=input('enter name if student :')\n",
        "  pass_word=input('Enter password :')\n",
        "  check=False\n",
        "  for i,student_inf in student.items():\n",
        "    if name in student_inf.values():\n",
        "      if pass_word in student_inf.values():\n",
        "        return student_inf\n",
        "  if check==False:\n",
        "    return 'user not found ' \n",
        "\n",
        "result = student_inf()        \n",
        "print(result)"
      ],
      "metadata": {
        "colab": {
          "base_uri": "https://localhost:8080/"
        },
        "id": "qfS8sKOq8XlA",
        "outputId": "fa188f2c-1e9f-46af-8d7c-9af83f017de9"
      },
      "execution_count": 51,
      "outputs": [
        {
          "output_type": "stream",
          "name": "stdout",
          "text": [
            "enter name if student :role\n",
            "Enter password :r_rr\n",
            "{'Name': 'role', 'password': 'r_rr', 'coures': 'Excel'}\n"
          ]
        }
      ]
    },
    {
      "cell_type": "code",
      "source": [
        "#Show all courese\n",
        "def search_all():\n",
        "  for coures_num in courses:\n",
        "    print(courses[coures_num])\n",
        "\n",
        "search_all()"
      ],
      "metadata": {
        "colab": {
          "base_uri": "https://localhost:8080/"
        },
        "id": "KbQut3ZPjTDf",
        "outputId": "c5b8360c-253f-4e4d-8b6f-4cccfbe1a2de"
      },
      "execution_count": null,
      "outputs": [
        {
          "output_type": "stream",
          "name": "stdout",
          "text": [
            "{'name': 'python_101', 'time': '20h', 'price': '200', 'stauts': 'available'}\n",
            "{'name': 'python_103', 'time': '20h', 'price': '150', 'stauts': 'available'}\n",
            "{'name': 'SQL', 'time': '20h', 'price': '150', 'stauts': 'not available'}\n",
            "{'name': 'machine_learning', 'time': '200h', 'price': '600', 'stauts': 'available'}\n",
            "{'name': 'Excel', 'time': '8h', 'price': '50', 'stauts': 'not available'}\n"
          ]
        }
      ]
    },
    {
      "cell_type": "code",
      "source": [
        "# check the coures in dict by coures name \n",
        "def search_coures():\n",
        "  name=input('Enter the name of courece :')\n",
        "  check=False\n",
        "  for number,coures_inf in courses.items():\n",
        "    for key in coures_inf:\n",
        "       if coures_inf[key] == name:\n",
        "         print(coures_inf)\n",
        "         check=True\n",
        "  if check == False:\n",
        "    print('there no course with this name ')       \n",
        "       \n",
        "          \n",
        "search_coures()\n"
      ],
      "metadata": {
        "colab": {
          "base_uri": "https://localhost:8080/"
        },
        "id": "1QS-YDQ6u4hr",
        "outputId": "0f7c798b-0948-44b6-d945-2ede8e80983e"
      },
      "execution_count": null,
      "outputs": [
        {
          "output_type": "stream",
          "name": "stdout",
          "text": [
            "Enter the name of courece :SQL\n",
            "{'name': 'SQL', 'time': '20h', 'price': '150', 'stauts': 'NOT available'}\n"
          ]
        }
      ]
    }
  ]
}