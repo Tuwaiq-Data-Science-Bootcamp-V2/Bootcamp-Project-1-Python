{
 "cells": [
  {
   "cell_type": "markdown",
   "id": "888eface",
   "metadata": {},
   "source": [
    "# Welocme to Mohammed's restaurant"
   ]
  },
  {
   "cell_type": "markdown",
   "id": "8404607a",
   "metadata": {},
   "source": [
    "![mcdonald's](https://media.wired.com/photos/621c3d3b21173ec112219154/master/pass/Security-McDonalds-Ice-Cream-Lawsuit-1236138982.jpg)"
   ]
  },
  {
   "cell_type": "markdown",
   "id": "15c08647",
   "metadata": {},
   "source": [
    "## Data storing"
   ]
  },
  {
   "cell_type": "code",
   "execution_count": 113,
   "id": "70b29b50",
   "metadata": {},
   "outputs": [],
   "source": [
    "menu = {\n",
    "    'item1': {'name': 'burger', 'price': 15.0},\n",
    "    'item2': {'name': 'piza', 'price': 33.5},\n",
    "    'item3': {'name': 'soda', 'price': 4.0},\n",
    "    'item4': {'name': 'fries', 'price': 7.5},\n",
    "}"
   ]
  },
  {
   "cell_type": "markdown",
   "id": "87cd2084",
   "metadata": {},
   "source": [
    "##  'Display' function to display the items"
   ]
  },
  {
   "cell_type": "code",
   "execution_count": 114,
   "id": "66b593b1",
   "metadata": {},
   "outputs": [],
   "source": [
    "# Display takes two arguments 'items' for the passed dictionary and and it's name\n",
    "def display(items,name):\n",
    "    print('-----------',name.upper(),'------------')\n",
    "    if name == 'menu':\n",
    "        for item_num in items:\n",
    "            item = items[item_num]\n",
    "            print(item_num,': ',item['name'],'   ',item['price'],'SR')\n",
    "    else:\n",
    "        for item_num in items:\n",
    "            item = items[item_num]\n",
    "            print(item['quantity'],': ',item['name'],'   ',item['price'],'SR')\n",
    "    print('-----------------------------')"
   ]
  },
  {
   "cell_type": "markdown",
   "id": "b879a648",
   "metadata": {},
   "source": [
    "## Main function"
   ]
  },
  {
   "cell_type": "code",
   "execution_count": 116,
   "id": "36d1ab1e",
   "metadata": {
    "scrolled": false
   },
   "outputs": [
    {
     "name": "stdout",
     "output_type": "stream",
     "text": [
      "----------- MENU ------------\n",
      "item1 :  burger     15.0 SR\n",
      "item2 :  piza     33.5 SR\n",
      "item3 :  soda     4.0 SR\n",
      "item4 :  fries     7.5 SR\n",
      "-----------------------------\n",
      "Please choose from the menu to add the cart or S to submit your order\n",
      "item1\n",
      "----------- CART ------------\n",
      "1 :  burger     15.0 SR\n",
      "-----------------------------\n",
      "Please choose from the menu to add the cart or S to submit your order\n",
      "dkfj\n",
      "\n",
      "You have entered an invalid choice\n",
      "\n",
      "Please choose from the menu to add the cart or S to submit your order\n",
      "item3\n",
      "----------- CART ------------\n",
      "1 :  burger     15.0 SR\n",
      "1 :  soda     4.0 SR\n",
      "-----------------------------\n",
      "Please choose from the menu to add the cart or S to submit your order\n",
      "item1\n",
      "----------- CART ------------\n",
      "2 :  burger     15.0 SR\n",
      "1 :  soda     4.0 SR\n",
      "-----------------------------\n",
      "Please choose from the menu to add the cart or S to submit your order\n",
      "S\n",
      "----------- CART ------------\n",
      "2 :  burger     15.0 SR\n",
      "1 :  soda     4.0 SR\n",
      "-----------------------------\n",
      "total:  34.0 SR\n"
     ]
    }
   ],
   "source": [
    "# cart dictionary to store the chosen food\n",
    "cart = {}\n",
    "total = 0\n",
    "display(menu,'menu')\n",
    "# Used while loop to keep taking the order from the user until he presses S to submit\n",
    "while True:\n",
    "    item = input('Please choose from the menu to add the cart or S to submit your order\\n')\n",
    "    # To check that user enterd a valid order\n",
    "    if item in menu:\n",
    "        # If item in cart we increment the quantity\n",
    "        if item in cart:\n",
    "            cart[item]['quantity'] += 1\n",
    "        else:\n",
    "            cart[item] = {'name' : menu[item]['name'], \n",
    "                          'price' : menu[item]['price'],\n",
    "                          'quantity' : 1\n",
    "                         }\n",
    "        display(cart,'cart')\n",
    "\n",
    "    elif item == 'S':\n",
    "        break\n",
    "    else :\n",
    "        print('\\nYou have entered an invalid choice\\n')\n",
    "for item in cart:\n",
    "    # The lambda function takes two arguments price and quantity and multiply them\n",
    "    total += (lambda price,quantity : price*quantity)\\\n",
    "    (cart[item]['price'],cart[item]['quantity'])\n",
    "\n",
    "display(cart,'cart')\n",
    "print('total: ',total,'SR')"
   ]
  },
  {
   "cell_type": "code",
   "execution_count": null,
   "id": "885f49da",
   "metadata": {},
   "outputs": [],
   "source": []
  }
 ],
 "metadata": {
  "kernelspec": {
   "display_name": "Python [conda env:bootcamp]",
   "language": "python",
   "name": "conda-env-bootcamp-py"
  },
  "language_info": {
   "codemirror_mode": {
    "name": "ipython",
    "version": 3
   },
   "file_extension": ".py",
   "mimetype": "text/x-python",
   "name": "python",
   "nbconvert_exporter": "python",
   "pygments_lexer": "ipython3",
   "version": "3.10.8"
  }
 },
 "nbformat": 4,
 "nbformat_minor": 5
}
