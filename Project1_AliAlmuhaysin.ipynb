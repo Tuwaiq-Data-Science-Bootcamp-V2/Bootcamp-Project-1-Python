{
 "cells": [
  {
   "attachments": {},
   "cell_type": "markdown",
   "metadata": {},
   "source": [
    "# Credentials Manager\n",
    "#### Bootcamp-Project-1-Python | Ali Almuhaysin"
   ]
  },
  {
   "attachments": {},
   "cell_type": "markdown",
   "metadata": {},
   "source": [
    "### Import Libraries"
   ]
  },
  {
   "cell_type": "code",
   "execution_count": 59,
   "metadata": {},
   "outputs": [],
   "source": [
    "import qrcode\n",
    "import os, string, random, datetime"
   ]
  },
  {
   "attachments": {},
   "cell_type": "markdown",
   "metadata": {},
   "source": [
    "### Initilize Messages and Credential Safe"
   ]
  },
  {
   "cell_type": "code",
   "execution_count": 98,
   "metadata": {},
   "outputs": [],
   "source": [
    "WelcomeMsg = '''\n",
    "\n",
    " ██████╗██████╗ ███████╗██████╗ ███████╗███╗   ██╗████████╗██╗ █████╗ ██╗     ███████╗\n",
    "██╔════╝██╔══██╗██╔════╝██╔══██╗██╔════╝████╗  ██║╚══██╔══╝██║██╔══██╗██║     ██╔════╝\n",
    "██║     ██████╔╝█████╗  ██║  ██║█████╗  ██╔██╗ ██║   ██║   ██║███████║██║     ███████╗\n",
    "██║     ██╔══██╗██╔══╝  ██║  ██║██╔══╝  ██║╚██╗██║   ██║   ██║██╔══██║██║     ╚════██║\n",
    "╚██████╗██║  ██║███████╗██████╔╝███████╗██║ ╚████║   ██║   ██║██║  ██║███████╗███████║\n",
    " ╚═════╝╚═╝  ╚═╝╚══════╝╚═════╝ ╚══════╝╚═╝  ╚═══╝   ╚═╝   ╚═╝╚═╝  ╚═╝╚══════╝╚══════╝\n",
    "                                                                                      \n",
    "            ███╗   ███╗ █████╗ ███╗   ██╗ █████╗  ██████╗ ███████╗██████╗             \n",
    "            ████╗ ████║██╔══██╗████╗  ██║██╔══██╗██╔════╝ ██╔════╝██╔══██╗            \n",
    "            ██╔████╔██║███████║██╔██╗ ██║███████║██║  ███╗█████╗  ██████╔╝            \n",
    "            ██║╚██╔╝██║██╔══██║██║╚██╗██║██╔══██║██║   ██║██╔══╝  ██╔══██╗            \n",
    "            ██║ ╚═╝ ██║██║  ██║██║ ╚████║██║  ██║╚██████╔╝███████╗██║  ██║            \n",
    "            ╚═╝     ╚═╝╚═╝  ╚═╝╚═╝  ╚═══╝╚═╝  ╚═╝ ╚═════╝ ╚══════╝╚═╝  ╚═╝            \n",
    "                                                                                                                                                                    \n",
    "        Welcome to CREDENTIALS MANAGER, a tool to help your credentials and passwords\n",
    "            in a safe place to mange and of courese to remember them ( ͡^ ͜ʖ ͡^)\n",
    "    ####################################################################################\n",
    "'''\n",
    "\n",
    "EndMsg = '''\n",
    "\n",
    "████████╗██╗  ██╗ █████╗ ███╗   ██╗██╗  ██╗    ██╗   ██╗ ██████╗ ██╗   ██╗    ██╗\n",
    "╚══██╔══╝██║  ██║██╔══██╗████╗  ██║██║ ██╔╝    ╚██╗ ██╔╝██╔═══██╗██║   ██║    ██║\n",
    "   ██║   ███████║███████║██╔██╗ ██║█████╔╝      ╚████╔╝ ██║   ██║██║   ██║    ██║\n",
    "   ██║   ██╔══██║██╔══██║██║╚██╗██║██╔═██╗       ╚██╔╝  ██║   ██║██║   ██║    ╚═╝\n",
    "   ██║   ██║  ██║██║  ██║██║ ╚████║██║  ██╗       ██║   ╚██████╔╝╚██████╔╝    ██╗\n",
    "   ╚═╝   ╚═╝  ╚═╝╚═╝  ╚═╝╚═╝  ╚═══╝╚═╝  ╚═╝       ╚═╝    ╚═════╝  ╚═════╝     ╚═╝\n",
    "'''\n",
    "\n",
    "OptionsMsg = '''\n",
    "\n",
    "1] Disply Current Saved Credentials.\n",
    "2] Search for a Credential.\n",
    "3] Add NEW Credential Info.\n",
    "4] Update Credential Info.\n",
    "5] Delete a Credential.\n",
    "6] QR CODE credential generator.\n",
    "q] Exit\n",
    "\n",
    "'''"
   ]
  },
  {
   "cell_type": "code",
   "execution_count": 88,
   "metadata": {},
   "outputs": [],
   "source": [
    "# Initilaize main Credentials Safe (Dictionary)\n",
    "\n",
    "CredentialSafe = {\n",
    "    1: {\n",
    "        'Name': 'Saater Account Password',\n",
    "        'Credential/Password' : 'AaAliHh147258',\n",
    "        'Created Date' : 'Unknown',\n",
    "        'LastModified' : 'none'\n",
    "    }\n",
    "}"
   ]
  },
  {
   "attachments": {},
   "cell_type": "markdown",
   "metadata": {},
   "source": [
    "### Functions "
   ]
  },
  {
   "cell_type": "code",
   "execution_count": 62,
   "metadata": {},
   "outputs": [],
   "source": [
    "# lambda function that takes a datetime.datetime data and convert it to str, change time format (2023-01-15 03:52:05.270176) to (Sun Jan 15 03:53:00 2023)\n",
    "TimeConvert = lambda date: str(date.strftime('%c')) "
   ]
  },
  {
   "cell_type": "code",
   "execution_count": 63,
   "metadata": {},
   "outputs": [],
   "source": [
    "def GenerateCredential(): # Function to generate Random password form a collection of (Letters Cap and lower, Digits, Special Characters \"@#$&!\") \n",
    "    Length = 15\n",
    "    Collection = string.ascii_letters + string.digits + '@#$&!'\n",
    "    Credential = ''.join(random.choice(Collection) for charc in range(Length))\n",
    "    return Credential"
   ]
  },
  {
   "cell_type": "code",
   "execution_count": 64,
   "metadata": {},
   "outputs": [],
   "source": [
    "def SearchCredential(Name = None, Id= None): # Search fucntion using either the name or the Id\n",
    "    global CredentialSafe\n",
    "    if Name is not None and Id is None:\n",
    "        for Id2, Info in CredentialSafe.items():\n",
    "            if Info[Name] == Name:\n",
    "                return CredentialSafe[Id2]\n",
    "            else:\n",
    "                return 'The Credential you are looking for, does NOT exist.'\n",
    "    elif Name is None and Id is not None:\n",
    "        if Id in CredentialSafe:\n",
    "            return CredentialSafe[Id]\n",
    "        else:\n",
    "            return 'The Credential you are looking for, does NOT exist.'\n",
    "    else:\n",
    "        for Id2, Info in CredentialSafe.items():\n",
    "            print('ID: ', Id,' : ', Info)"
   ]
  },
  {
   "cell_type": "code",
   "execution_count": 65,
   "metadata": {},
   "outputs": [],
   "source": [
    "def AddCredential(Name, Credential): # Function to Add new record (dict) to the credential Safe\n",
    "\n",
    "    CredInfo = { \n",
    "        'Name': Name,\n",
    "        'Credential/Password' : Credential,\n",
    "        'Created Date' : TimeConvert(datetime.datetime.now()) ,\n",
    "        'LastModified' : 'none'\n",
    "    }\n",
    "\n",
    "    global CredentialSafe\n",
    "    if len(CredentialSafe) < 1:\n",
    "        CredentialSafe[1] = CredInfo\n",
    "    else:\n",
    "        CredentialSafe[len(CredentialSafe)+1] = CredInfo\n",
    "    print ('The New Credential Was Added Successfuly.')\n"
   ]
  },
  {
   "cell_type": "code",
   "execution_count": 76,
   "metadata": {},
   "outputs": [],
   "source": [
    "def UpdateCredential(Id): # Function to update the existing record (dict) of the credential and save the modification time.\n",
    "    global CredentialSafe\n",
    "    Info = list() \n",
    "    if Id in CredentialSafe:\n",
    "        Info.append(input('Enter the new Name ('+str(CredentialSafe[Id]['Name'])+'): '))\n",
    "        Info.append(input('Enter the new Credential/Password ('+str(CredentialSafe[Id]['Credential/Password'])+'): '))\n",
    "        if Info[0].strip():\n",
    "            CredentialSafe[Id]['Name'] = Info[0]\n",
    "        if Info[1].strip():\n",
    "            CredentialSafe[Id]['Credential/Password'] = Info[1]\n",
    "        CredentialSafe[Id]['LastModified'] = TimeConvert(datetime.datetime.now())\n",
    "\n",
    "        print('Credential ID# ' + str(Id) + ' was updated successfully.' )\n",
    "        Info.clear()\n",
    "    else:\n",
    "        print('The Credential you are looking for, does NOT exist.')"
   ]
  },
  {
   "cell_type": "code",
   "execution_count": 86,
   "metadata": {},
   "outputs": [],
   "source": [
    "def DeleteCredential(Id): # Fuction to delete an existing record (dict) of the credential by using temp method \n",
    "    global CredentialSafe\n",
    "    tempDict = {}\n",
    "    num = 0\n",
    "    if Id in CredentialSafe:\n",
    "        #del CredentialSafe[Id]\n",
    "        for Key ,value in CredentialSafe.items():\n",
    "            if Id != Key:\n",
    "                num += 1\n",
    "                tempDict[num] = value\n",
    "\n",
    "        CredentialSafe.clear()\n",
    "        CredentialSafe = tempDict.copy()\n",
    "        \n",
    "        tempDict.clear()\n",
    "        del tempDict\n",
    "        print('Credential Info were deleted Successfully.')\n",
    "    else:\n",
    "        print('The Credential you are looking for, does NOT exist.')"
   ]
  },
  {
   "cell_type": "code",
   "execution_count": 68,
   "metadata": {},
   "outputs": [],
   "source": [
    "def ShareQR(Id=None, Credential ='EROR_DefaultValue'): # Generate QR CODE from The Credential and save it as png image in the same dir.\n",
    "    Credential = str(Credential)\n",
    "    ImgCode = qrcode.make(Credential)\n",
    "    ImgCode.save('C_QRcode_' + str(Id) + '.png')\n",
    "        "
   ]
  },
  {
   "attachments": {},
   "cell_type": "markdown",
   "metadata": {},
   "source": [
    "### Main Programm "
   ]
  },
  {
   "cell_type": "code",
   "execution_count": null,
   "metadata": {},
   "outputs": [],
   "source": [
    "print(WelcomeMsg)\n",
    "\n",
    "while True: \n",
    "    \n",
    "    print(OptionsMsg)\n",
    "    Option = input('Select what you want to choose: ')\n",
    "    \n",
    "    if Option == '1':\n",
    "        print('|    DISPLAYING ALL SAVED CREDENTIALS    |')\n",
    "        global CredentialSafe\n",
    "        for Id, Info in CredentialSafe.items():\n",
    "            print('ID: ', Id,' : ',Info)\n",
    "        \n",
    "    elif Option == '2':\n",
    "        Id = input('Enter the id of the credential: ')\n",
    "        Name = input('Write the name of the credential, leve it empty if you do not know: ')\n",
    "        SearchCredential(Name, int(Id))\n",
    "\n",
    "    elif Option == '3':\n",
    "        Name = input('Write the prefered name for this credential: ')\n",
    "        Credential = input('Write your credential, or leve it empty to generate one!')\n",
    "        if not Credential.strip():\n",
    "            AddCredential(Name = Name, Credential= GenerateCredential())\n",
    "        else:\n",
    "            AddCredential(Name,Credential)\n",
    "            \n",
    "    elif Option == '4':\n",
    "        Id = input('Enter the id of the credential: ')\n",
    "        UpdateCredential(int(Id))\n",
    "\n",
    "    elif Option == '5':\n",
    "        Id = input('Enter the id of the credential: ')\n",
    "        DeleteCredential(int(Id))\n",
    "\n",
    "    elif Option == '6':\n",
    "        Id = input('Enter the id of the credential: ')\n",
    "        if not Id.strip():\n",
    "            Credential = input('Write your credential: ')\n",
    "            Id = random.randint(500,800)\n",
    "        else:\n",
    "            try:\n",
    "                Credential = CredentialSafe[int(Id)]['Credential/Password']\n",
    "            except:\n",
    "                print('QR CODE generation Faild due to an error!')\n",
    "\n",
    "        ShareQR(int(Id), Credential)\n",
    "\n",
    "    elif Option == 'q':\n",
    "        os.system('cls') # clear output\n",
    "        print(EndMsg)\n",
    "        break\n",
    "    os.system('cls')\n"
   ]
  }
 ],
 "metadata": {
  "kernelspec": {
   "display_name": "base",
   "language": "python",
   "name": "python3"
  },
  "language_info": {
   "codemirror_mode": {
    "name": "ipython",
    "version": 3
   },
   "file_extension": ".py",
   "mimetype": "text/x-python",
   "name": "python",
   "nbconvert_exporter": "python",
   "pygments_lexer": "ipython3",
   "version": "3.9.7"
  },
  "orig_nbformat": 4,
  "vscode": {
   "interpreter": {
    "hash": "d7110026d9d1e7a4f913f473c04b036e681323f3b6777e21eab70ab5bad6c5ad"
   }
  }
 },
 "nbformat": 4,
 "nbformat_minor": 2
}
