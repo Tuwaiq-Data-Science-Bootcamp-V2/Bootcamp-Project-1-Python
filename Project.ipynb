{
 "cells": [
  {
   "attachments": {},
   "cell_type": "markdown",
   "metadata": {},
   "source": [
    "### Menu"
   ]
  },
  {
   "attachments": {},
   "cell_type": "markdown",
   "metadata": {},
   "source": [
    "\n",
    "| Name | Price | Ingredients | Calories |\n",
    "| ---- | ----- |------------ |----------|\n",
    "|Cheese Burger| 42 | Beef burger, cheddar cheese, onion and tomato | 602\n",
    "|Mushroom Burger| 49 | Two patty of beef with mushroom souce on it | 667\n",
    "|Classic Burger| 35 | Beef, lettuce and tomato | 532\n"
   ]
  },
  {
   "cell_type": "code",
   "execution_count": 24,
   "metadata": {},
   "outputs": [],
   "source": [
    "# dictionary for ch cheese burger\n",
    "cheese_burger = {\n",
    "    \"name\" : \"Cheese Burger\",\n",
    "    \"price\":42,\n",
    "    \"calories\":602,\n",
    "    \"ingredients\":\"beef burger, Cheddar cheese, onion and tomato\"\n",
    "    }\n",
    "\n",
    "mushroom_burger = {\n",
    "    \"name\" : \"Mushroom Burger\",\n",
    "    \"price\":49,\n",
    "    \"calories\":667,\n",
    "    \"ingredients\":\"Two patty of beef with mushroom souce on it\"\n",
    "}\n",
    "classic_burger = {\n",
    "    \"name\" : \"Classic Burger\",\n",
    "    \"price\":35,\n",
    "    \"calories\":532,\n",
    "    \"ingredients\":\"Beef, lettuce and tomato\"\n",
    "}\n",
    "# menu dictionary contains items\n",
    "menu = {\n",
    "    1:cheese_burger,\n",
    "    2:mushroom_burger,\n",
    "    3:classic_burger\n",
    "}\n",
    "\n"
   ]
  },
  {
   "cell_type": "code",
   "execution_count": 26,
   "metadata": {},
   "outputs": [],
   "source": [
    "# lambda function to calculate VAT\n",
    "VAT = lambda total: total*0.15"
   ]
  },
  {
   "attachments": {},
   "cell_type": "markdown",
   "metadata": {},
   "source": [
    "Making order"
   ]
  },
  {
   "cell_type": "code",
   "execution_count": 25,
   "metadata": {},
   "outputs": [
    {
     "name": "stdout",
     "output_type": "stream",
     "text": [
      "Welcome, choose your order: \n",
      "1 Cheese Burger\n",
      "2 Mushroom Burger\n",
      "3 Classic Burger\n",
      "beef burger, Cheddar cheese, onion and tomato \n",
      "Calories:  602 \n",
      "Price:  42\n"
     ]
    }
   ],
   "source": [
    "# list to save order in it\n",
    "order = []\n",
    "print(f\"Welcome, choose your order: \")\n",
    "# while loop for adding item\n",
    "flag = True\n",
    "while flag:\n",
    "    # the number of item in the menu\n",
    "    item_num=1\n",
    "    # for loop to print the name for every itme in menu\n",
    "    for i in menu:\n",
    "        print(item_num,menu[item_num][\"name\"])\n",
    "        item_num+=1\n",
    "    #user input \n",
    "    ordered_item = int(input())\n",
    "    # to make sure that input is correct \n",
    "    if ordered_item not in menu:\n",
    "        print(\"Your order is not on the menu please try again.\")\n",
    "    # if the input in menu print item values\n",
    "    else:\n",
    "        print(menu[ordered_item][\"ingredients\"],\n",
    "            \"\\nCalories: \",menu[ordered_item][\"calories\"],\n",
    "            \"\\nPrice: \",menu[ordered_item][\"price\"])\n",
    "        # input for user to add item or return \n",
    "        x = int(input(\"1.Add to order, 2.Return to menu: \\n\"))\n",
    "        # if statement based on input\"x\" \n",
    "        if x == 1:\n",
    "            #quantity\n",
    "            qty= int(input(\"How many want to add?\\n\"))\n",
    "            #add item to order list\n",
    "            order.append([menu[ordered_item],qty]) \n",
    "            x = int(input(\"1.Checkout, 2.Return to menu: \\n\"))\n",
    "            #end loop\n",
    "            flag = False\n",
    "            if x==2:\n",
    "                flag=True\n",
    " "
   ]
  },
  {
   "attachments": {},
   "cell_type": "markdown",
   "metadata": {},
   "source": [
    "Printing receipt"
   ]
  },
  {
   "cell_type": "code",
   "execution_count": 27,
   "metadata": {},
   "outputs": [
    {
     "name": "stdout",
     "output_type": "stream",
     "text": [
      "Your order is:\n",
      "qty     name           price\n",
      "3    Cheese Burger     126\n",
      "_______________________________\n",
      "price: 126\n",
      "The VAT: 18.9\n",
      "total cost: 144.9\n"
     ]
    }
   ],
   "source": [
    "# integer for calculate total price\n",
    "total =0\n",
    "print(f\"Your order is:\")\n",
    "print(\"qty     name           price\")\n",
    "# for loop for listing itmes\n",
    "for i in order:\n",
    "    print(i[1],\"  \",i[0][\"name\"],\"   \",i[1]*i[0][\"price\"])\n",
    "    # calculating total price\n",
    "    total += i[1]*i[0][\"price\"]\n",
    "print(\"_______________________________\") \n",
    "#total cost including VAT using Lembda function\n",
    "print(f\"price: {total}\\nThe VAT: {VAT(total)}\\ntotal cost: {total+VAT(total)}\")\n"
   ]
  }
 ],
 "metadata": {
  "kernelspec": {
   "display_name": "Python 3",
   "language": "python",
   "name": "python3"
  },
  "language_info": {
   "codemirror_mode": {
    "name": "ipython",
    "version": 3
   },
   "file_extension": ".py",
   "mimetype": "text/x-python",
   "name": "python",
   "nbconvert_exporter": "python",
   "pygments_lexer": "ipython3",
   "version": "3.10.6 (tags/v3.10.6:9c7b4bd, Aug  1 2022, 21:53:49) [MSC v.1932 64 bit (AMD64)]"
  },
  "orig_nbformat": 4,
  "vscode": {
   "interpreter": {
    "hash": "149b89a38907e440de612d7f39cfdd2a43d2a636577520bfbbfc3d7cef0bee1f"
   }
  }
 },
 "nbformat": 4,
 "nbformat_minor": 2
}
